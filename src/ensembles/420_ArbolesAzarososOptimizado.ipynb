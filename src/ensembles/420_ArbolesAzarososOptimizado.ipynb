{
  "nbformat": 4,
  "nbformat_minor": 0,
  "metadata": {
    "colab": {
      "provenance": []
    },
    "kernelspec": {
      "name": "ir",
      "display_name": "R"
    },
    "language_info": {
      "name": "R"
    }
  },
  "cells": [
    {
      "cell_type": "markdown",
      "source": [
        "# 4. Ensembles de Arboles de Decision"
      ],
      "metadata": {
        "id": "kgJ0E--L0n9s"
      }
    },
    {
      "cell_type": "markdown",
      "source": [
        "Un arbol de decisión es un modelo débil, el aumento del poder predictivo proviene al ensamblar varios arboles de decisión.\n",
        "<br> Si promedio n arboles identicos, el resultados es exactamente el mismo que utilizar un solo arbol, necesito PERTURBAR cada arbol para disponer de variablidad"
      ],
      "metadata": {
        "id": "PgLdmWznXWGZ"
      }
    },
    {
      "cell_type": "markdown",
      "source": [
        "la variabilidad provendrá de estas fuentes:\n",
        "\n",
        "\n",
        "*   Perturbar el dataset\n",
        "*   Perturbar el algoritmo del arbol\n",
        "*   Perturbar el dataset y el algoritmo del arbol al mismo tiempo"
      ],
      "metadata": {
        "id": "FTnxMEOqYRXZ"
      }
    },
    {
      "cell_type": "markdown",
      "source": [
        "Se verán estos tres algoritmos\n",
        "\n",
        "\n",
        "*   Arboles Azarosos\n",
        "*   Random Forest\n",
        "*   Gradient Boosting of Decision Trees"
      ],
      "metadata": {
        "id": "DHp1h9m-X7Rc"
      }
    },
    {
      "cell_type": "markdown",
      "metadata": {
        "id": "3m0ySYPfa7Zr"
      },
      "source": [
        "#### 4.01 Seteo del ambiente en Google Colab"
      ]
    },
    {
      "cell_type": "markdown",
      "metadata": {
        "id": "NGY7H9xza7Zr"
      },
      "source": [
        "Esta parte se debe correr con el runtime en Python3\n",
        "<br>Ir al menu, Runtime -> Change Runtime Type -> Runtime type ->  **Python 3**"
      ]
    },
    {
      "cell_type": "markdown",
      "metadata": {
        "id": "7PupIBNba7Zr"
      },
      "source": [
        "Conectar la virtual machine donde esta corriendo Google Colab con el  Google Drive, para poder tener persistencia de archivos"
      ]
    },
    {
      "cell_type": "code",
      "execution_count": 1,
      "metadata": {
        "id": "9LpZCst5a7Zs",
        "outputId": "1b54eac1-62d5-42aa-e175-ad21e27e24e9",
        "colab": {
          "base_uri": "https://localhost:8080/"
        }
      },
      "outputs": [
        {
          "output_type": "stream",
          "name": "stdout",
          "text": [
            "Mounted at /content/.drive\n"
          ]
        }
      ],
      "source": [
        "# primero establecer el Runtime de Python 3\n",
        "from google.colab import drive\n",
        "drive.mount('/content/.drive')"
      ]
    },
    {
      "cell_type": "markdown",
      "metadata": {
        "id": "JYC_F-wla7Zs"
      },
      "source": [
        "Para correr la siguiente celda es fundamental en Arranque en Frio haber copiado el archivo kaggle.json al Google Drive, en la carpeta indicada en el instructivo\n",
        "\n",
        "<br>los siguientes comando estan en shell script de Linux\n",
        "*   Crear las carpetas en el Google Drive\n",
        "*   \"instalar\" el archivo kaggle.json desde el Google Drive a la virtual machine para que pueda ser utilizado por la libreria  kaggle de Python\n",
        "*   Bajar el  **dataset_pequeno**  al  Google Drive  y tambien al disco local de la virtual machine que esta corriendo Google Colab\n",
        "\n"
      ]
    },
    {
      "cell_type": "code",
      "execution_count": 2,
      "metadata": {
        "id": "XWLelftXa7Zt",
        "outputId": "f7f2e21e-dd4a-4113-b17a-d0ce89823a4a",
        "colab": {
          "base_uri": "https://localhost:8080/"
        }
      },
      "outputs": [
        {
          "output_type": "execute_result",
          "data": {
            "text/plain": []
          },
          "metadata": {},
          "execution_count": 2
        }
      ],
      "source": [
        "%%shell\n",
        "\n",
        "mkdir -p \"/content/.drive/My Drive/labo1\"\n",
        "mkdir -p \"/content/buckets\"\n",
        "ln -s \"/content/.drive/My Drive/labo1\" /content/buckets/b1\n",
        "\n",
        "mkdir -p ~/.kaggle\n",
        "cp /content/buckets/b1/kaggle/kaggle.json  ~/.kaggle\n",
        "chmod 600 ~/.kaggle/kaggle.json\n",
        "\n",
        "\n",
        "mkdir -p /content/buckets/b1/exp\n",
        "mkdir -p /content/buckets/b1/datasets\n",
        "mkdir -p /content/datasets\n",
        "\n",
        "\n",
        "\n",
        "archivo_origen=\"https://storage.googleapis.com/open-courses/austral2025-af91/dataset_pequeno.csv\"\n",
        "archivo_destino=\"/content/datasets/dataset_pequeno.csv\"\n",
        "archivo_destino_bucket=\"/content/buckets/b1/datasets/dataset_pequeno.csv\"\n",
        "\n",
        "if ! test -f $archivo_destino_bucket; then\n",
        "  wget  $archivo_origen  -O $archivo_destino_bucket\n",
        "fi\n",
        "\n",
        "\n",
        "if ! test -f $archivo_destino; then\n",
        "  cp  $archivo_destino_bucket  $archivo_destino\n",
        "fi"
      ]
    },
    {
      "cell_type": "markdown",
      "metadata": {
        "id": "Pc9x9DnsNlZv"
      },
      "source": [
        "\n",
        "\n",
        "---\n",
        "\n"
      ]
    },
    {
      "cell_type": "markdown",
      "source": [
        "## 4.02 Arboles Azarosos"
      ],
      "metadata": {
        "id": "qq0KVOtq1K5D"
      }
    },
    {
      "cell_type": "markdown",
      "source": [
        "Arboles Azarosos es el nombre de un algoritmo trivial (por favor NO confundir con Random Forest)\n",
        "Qué tipo de perturbaciones se realizan en Arboles Azarosos\n",
        "* Se perturba el dataset\n",
        "* No se perturba el algoritmo, es siempre rpart original"
      ],
      "metadata": {
        "id": "HsNJjhlRo9jM"
      }
    },
    {
      "cell_type": "markdown",
      "source": [
        "Cada  arbolito de  Arboles Azarosos se entrena sobre un dataset perturbado,  que tiene exactamente la misma cantidad de registros pero solo un subconjunto de los atributos (campos)  del dataset, tomados al azar, de los originales.\n",
        "<br> En esta primera corrida, se construira cada arbol en un dataset utilizando el 50% de los campos"
      ],
      "metadata": {
        "id": "rq2HC28CpXBR"
      }
    },
    {
      "cell_type": "markdown",
      "metadata": {
        "id": "eSU5vi00CPRS"
      },
      "source": [
        "Esta parte se debe correr con el runtime en lenguaje **R** Ir al menu, Runtime -> Change Runtime Type -> Runtime type -> R"
      ]
    },
    {
      "cell_type": "markdown",
      "metadata": {
        "id": "Zq8dySimCPRT"
      },
      "source": [
        "limpio el ambiente de R"
      ]
    },
    {
      "cell_type": "code",
      "source": [
        "format(Sys.time(), \"%a %b %d %X %Y\")"
      ],
      "metadata": {
        "id": "LrdtraBYJrsx",
        "outputId": "95a84814-626c-48c1-96df-9b7ce42133a1",
        "colab": {
          "base_uri": "https://localhost:8080/",
          "height": 34
        }
      },
      "execution_count": 1,
      "outputs": [
        {
          "output_type": "display_data",
          "data": {
            "text/html": [
              "'Sun Oct 26 11:51:27 PM 2025'"
            ],
            "text/markdown": "'Sun Oct 26 11:51:27 PM 2025'",
            "text/latex": "'Sun Oct 26 11:51:27 PM 2025'",
            "text/plain": [
              "[1] \"Sun Oct 26 11:51:27 PM 2025\""
            ]
          },
          "metadata": {}
        }
      ]
    },
    {
      "cell_type": "code",
      "execution_count": 2,
      "metadata": {
        "id": "1iE0U4_WCPRT",
        "outputId": "478b5d96-770d-421f-e5fe-3fd70f97115d",
        "colab": {
          "base_uri": "https://localhost:8080/",
          "height": 129
        }
      },
      "outputs": [
        {
          "output_type": "display_data",
          "data": {
            "text/html": [
              "<table class=\"dataframe\">\n",
              "<caption>A matrix: 2 × 6 of type dbl</caption>\n",
              "<thead>\n",
              "\t<tr><th></th><th scope=col>used</th><th scope=col>(Mb)</th><th scope=col>gc trigger</th><th scope=col>(Mb)</th><th scope=col>max used</th><th scope=col>(Mb)</th></tr>\n",
              "</thead>\n",
              "<tbody>\n",
              "\t<tr><th scope=row>Ncells</th><td> 660381</td><td>35.3</td><td>1454471</td><td>77.7</td><td>1454471</td><td>77.7</td></tr>\n",
              "\t<tr><th scope=row>Vcells</th><td>1226627</td><td> 9.4</td><td>8388608</td><td>64.0</td><td>1975128</td><td>15.1</td></tr>\n",
              "</tbody>\n",
              "</table>\n"
            ],
            "text/markdown": "\nA matrix: 2 × 6 of type dbl\n\n| <!--/--> | used | (Mb) | gc trigger | (Mb) | max used | (Mb) |\n|---|---|---|---|---|---|---|\n| Ncells |  660381 | 35.3 | 1454471 | 77.7 | 1454471 | 77.7 |\n| Vcells | 1226627 |  9.4 | 8388608 | 64.0 | 1975128 | 15.1 |\n\n",
            "text/latex": "A matrix: 2 × 6 of type dbl\n\\begin{tabular}{r|llllll}\n  & used & (Mb) & gc trigger & (Mb) & max used & (Mb)\\\\\n\\hline\n\tNcells &  660381 & 35.3 & 1454471 & 77.7 & 1454471 & 77.7\\\\\n\tVcells & 1226627 &  9.4 & 8388608 & 64.0 & 1975128 & 15.1\\\\\n\\end{tabular}\n",
            "text/plain": [
              "       used    (Mb) gc trigger (Mb) max used (Mb)\n",
              "Ncells  660381 35.3 1454471    77.7 1454471  77.7\n",
              "Vcells 1226627  9.4 8388608    64.0 1975128  15.1"
            ]
          },
          "metadata": {}
        }
      ],
      "source": [
        "# limpio la memoria\n",
        "rm(list=ls(all.names=TRUE)) # remove all objects\n",
        "gc(full=TRUE, verbose=FALSE) # garbage collection"
      ]
    },
    {
      "cell_type": "code",
      "execution_count": 3,
      "metadata": {
        "id": "BJDwdD0dCPRU",
        "outputId": "e4bf597e-4620-4d62-d353-1e1e3b0aa89b",
        "colab": {
          "base_uri": "https://localhost:8080/"
        }
      },
      "outputs": [
        {
          "output_type": "stream",
          "name": "stderr",
          "text": [
            "Loading required package: data.table\n",
            "\n",
            "Loading required package: rpart\n",
            "\n"
          ]
        }
      ],
      "source": [
        "# cargo las librerias que necesito\n",
        "require(\"data.table\")\n",
        "require(\"rpart\")"
      ]
    },
    {
      "cell_type": "markdown",
      "source": [
        "Aqui debe cargar SU semilla primigenia"
      ],
      "metadata": {
        "id": "M8-Pyp6CCPRU"
      }
    },
    {
      "cell_type": "code",
      "source": [
        "PARAM <- list()\n",
        "PARAM$semilla_primigenia <- 191717\n",
        "\n",
        "# parametros  arbol\n",
        "# entreno cada arbol con solo 50% de las variables variables\n",
        "#  por ahora, es fijo\n",
        "PARAM$feature_fraction <- 0.5\n",
        "\n",
        "PARAM$rpart$cp <- -1\n",
        "PARAM$rpart$minsplit <- 750\n",
        "PARAM$rpart$minbucket <- 41\n",
        "PARAM$rpart$maxdepth <- 10\n",
        "\n",
        "# voy a generar 512 arboles,\n",
        "#  a mas arboles mas tiempo de proceso y MEJOR MODELO,\n",
        "#  pero ganancias marginales\n",
        "PARAM$num_trees_max <- 512"
      ],
      "metadata": {
        "id": "peRH7ySLCPRV"
      },
      "execution_count": null,
      "outputs": []
    },
    {
      "cell_type": "code",
      "source": [
        "# carpeta de trabajo\n",
        "setwd(\"/content/buckets/b1/exp\")\n",
        "experimento <- \"exp420_bo\"\n",
        "dir.create(experimento, showWarnings=FALSE)\n",
        "setwd( paste0(\"/content/buckets/b1/exp/\", experimento ))"
      ],
      "metadata": {
        "id": "1gZD6ZMvCPRV"
      },
      "execution_count": 13,
      "outputs": []
    },
    {
      "cell_type": "code",
      "source": [
        "# lectura del dataset\n",
        "dataset <- fread(\"/content/datasets/dataset_pequeno.csv\")"
      ],
      "metadata": {
        "id": "Xi0emX2ECPRV"
      },
      "execution_count": 14,
      "outputs": []
    },
    {
      "cell_type": "code",
      "source": [
        "# defino los dataset de entrenamiento y aplicacion\n",
        "dtrain <- dataset[foto_mes == 202107]\n",
        "dfuture <- dataset[foto_mes == 202109]\n",
        "\n",
        "# arreglo clase_ternaria por algun distraido \"\"\n",
        "dfuture[, clase_ternaria := NA ]"
      ],
      "metadata": {
        "id": "RA3cSJ6KaGwA"
      },
      "execution_count": 15,
      "outputs": []
    },
    {
      "cell_type": "code",
      "source": [
        "# Establezco cuales son los campos que puedo usar para la prediccion\n",
        "# el copy() es por la Lazy Evaluation\n",
        "campos_buenos <- copy(setdiff(colnames(dtrain), c(\"clase_ternaria\")))"
      ],
      "metadata": {
        "id": "EByLkVMwaC8K"
      },
      "execution_count": 16,
      "outputs": []
    },
    {
      "cell_type": "code",
      "source": [
        "# que tamanos de ensemble grabo a disco\n",
        "grabar <- c(1, 2, 4, 8, 16, 32, 64, 128, 256, 384, 512)"
      ],
      "metadata": {
        "id": "rHMrHwwpaB8D"
      },
      "execution_count": 17,
      "outputs": []
    },
    {
      "cell_type": "code",
      "source": [
        "tb_prediccion <- dfuture[, list(numero_de_cliente)]\n",
        "# aqui se va acumulando la probabilidad del ensemble\n",
        "tb_prediccion[, prob_acumulada := 0]"
      ],
      "metadata": {
        "id": "bJHS2aeghw6I"
      },
      "execution_count": 18,
      "outputs": []
    },
    {
      "cell_type": "code",
      "source": [
        "# for (arbolito in seq(PARAM$num_trees_max) ) {\n",
        "#   message( arbolito, \" \")\n",
        "#   qty_campos_a_utilizar <- as.integer(length(campos_buenos)\n",
        "#     * PARAM$feature_fraction)\n",
        "\n",
        "#   # elijo los campos al azar\n",
        "#   campos_random <- sample(campos_buenos, qty_campos_a_utilizar)\n",
        "\n",
        "#   # paso de un vector a un string con los elementos\n",
        "#   # separados por un signo de \"+\"\n",
        "#   # este hace falta para la formula\n",
        "#   campos_random <- paste(campos_random, collapse= \" + \")\n",
        "\n",
        "#   # armo la formula para rpart\n",
        "#   formulita <- paste0(\"clase_ternaria ~ \", campos_random)\n",
        "\n",
        "#   # genero el arbol de decision\n",
        "#   modelo <- rpart(formulita,\n",
        "#     data= dtrain,\n",
        "#     xval= 0,\n",
        "#     control= PARAM$rpart\n",
        "#   )\n",
        "\n",
        "#   # aplico el modelo a los datos que no tienen clase\n",
        "#   prediccion <- predict(modelo, dfuture, type= \"prob\")\n",
        "\n",
        "#   tb_prediccion[, prob_acumulada := prob_acumulada + prediccion[, \"BAJA+2\"]]\n",
        "\n",
        "#   if (arbolito %in% grabar) {\n",
        "#     umbral_corte <- (1 / 40) * arbolito\n",
        "#     tb_prediccion[, Predicted := as.numeric(prob_acumulada > umbral_corte)]\n",
        "\n",
        "#     archivo_kaggle <- paste0(\n",
        "#         \"KA420_\",\n",
        "#         sprintf(\"%.3d\", arbolito), # para que tenga ceros adelante\n",
        "#         \".csv\"\n",
        "#       )\n",
        "\n",
        "#     # grabo el archivo\n",
        "#     fwrite( tb_prediccion[, list(numero_de_cliente, Predicted)],\n",
        "#       file= archivo_kaggle,\n",
        "#       sep= \",\"\n",
        "#     )\n",
        "\n",
        "#     # subida a Kaggle\n",
        "#     comando <- \"kaggle competitions submit\"\n",
        "#     competencia <- \"-c labo-i-2025-virtual-analista-sr\"\n",
        "#     arch <- paste( \"-f\", archivo_kaggle)\n",
        "\n",
        "#     mensaje <- paste0(\"-m 'cp=\", PARAM$rpart$cp, \"  minsplit=\", PARAM$rpart$minsplit, \"  minbucket=\", PARAM$rpart$minbucket, \" maxdepth=\", PARAM$rpart$maxdepth, \"'\" )\n",
        "#     linea <- paste( comando, competencia, arch, mensaje)\n",
        "#     salida <- system(linea, intern=TRUE)\n",
        "#     cat(salida)\n",
        "#   }\n",
        "# }\n"
      ],
      "metadata": {
        "id": "j-xp2HQDhFmY"
      },
      "execution_count": null,
      "outputs": []
    },
    {
      "cell_type": "code",
      "source": [
        "format(Sys.time(), \"%a %b %d %X %Y\")"
      ],
      "metadata": {
        "id": "lgmvRHcfJpls",
        "colab": {
          "base_uri": "https://localhost:8080/",
          "height": 34
        },
        "outputId": "9b63be64-13d1-4707-fb94-427de18b9c1d"
      },
      "execution_count": 20,
      "outputs": [
        {
          "output_type": "display_data",
          "data": {
            "text/html": [
              "'Mon Oct 27 01:26:25 AM 2025'"
            ],
            "text/markdown": "'Mon Oct 27 01:26:25 AM 2025'",
            "text/latex": "'Mon Oct 27 01:26:25 AM 2025'",
            "text/plain": [
              "[1] \"Mon Oct 27 01:26:25 AM 2025\""
            ]
          },
          "metadata": {}
        }
      ]
    },
    {
      "cell_type": "code",
      "source": [
        "require(\"data.table\")\n",
        "require(\"rpart\")\n",
        "require(\"parallel\")\n",
        "\n",
        "if( !require(\"DiceKriging\") ) install.packages(\"DiceKriging\")\n",
        "require(\"DiceKriging\")\n",
        "if( ! require(\"rlist\") ) install.packages(\"rlist\")\n",
        "require(\"rlist\")\n",
        "if( !require(\"mlrMBO\") ) install.packages(\"mlrMBO\")\n",
        "require(\"mlrMBO\")\n"
      ],
      "metadata": {
        "colab": {
          "base_uri": "https://localhost:8080/"
        },
        "id": "qGdZKxo-R2p6",
        "outputId": "f4c6ea13-d7c5-4406-8484-c671d784464d"
      },
      "execution_count": 27,
      "outputs": [
        {
          "output_type": "stream",
          "name": "stderr",
          "text": [
            "Loading required package: parallel\n",
            "\n",
            "Loading required package: DiceKriging\n",
            "\n",
            "Warning message in library(package, lib.loc = lib.loc, character.only = TRUE, logical.return = TRUE, :\n",
            "“there is no package called ‘DiceKriging’”\n",
            "Installing package into ‘/usr/local/lib/R/site-library’\n",
            "(as ‘lib’ is unspecified)\n",
            "\n",
            "Loading required package: DiceKriging\n",
            "\n",
            "Loading required package: rlist\n",
            "\n",
            "Warning message in library(package, lib.loc = lib.loc, character.only = TRUE, logical.return = TRUE, :\n",
            "“there is no package called ‘rlist’”\n",
            "Installing package into ‘/usr/local/lib/R/site-library’\n",
            "(as ‘lib’ is unspecified)\n",
            "\n",
            "also installing the dependency ‘XML’\n",
            "\n",
            "\n",
            "Loading required package: rlist\n",
            "\n",
            "Loading required package: mlrMBO\n",
            "\n",
            "Warning message in library(package, lib.loc = lib.loc, character.only = TRUE, logical.return = TRUE, :\n",
            "“there is no package called ‘mlrMBO’”\n",
            "Installing package into ‘/usr/local/lib/R/site-library’\n",
            "(as ‘lib’ is unspecified)\n",
            "\n",
            "also installing the dependencies ‘fastmatch’, ‘RcppArmadillo’, ‘mlr’, ‘ParamHelpers’, ‘smoof’, ‘BBmisc’, ‘checkmate’, ‘lhs’, ‘parallelMap’\n",
            "\n",
            "\n",
            "Loading required package: mlrMBO\n",
            "\n",
            "Loading required package: mlr\n",
            "\n",
            "Loading required package: ParamHelpers\n",
            "\n",
            "Loading required package: smoof\n",
            "\n",
            "Loading required package: checkmate\n",
            "\n",
            "\n",
            "Attaching package: ‘checkmate’\n",
            "\n",
            "\n",
            "The following object is masked from ‘package:DiceKriging’:\n",
            "\n",
            "    checkNames\n",
            "\n",
            "\n"
          ]
        }
      ]
    },
    {
      "cell_type": "code",
      "source": [
        "library(tools) # Para basename()\n",
        "\n",
        "#' Obtiene la fila superior (más reciente) de la tabla de envíos.\n",
        "#' Incluye reintentos internos en caso de fallo de la API.\n",
        "#'\n",
        "#' @param competition_name El nombre de la competición.\n",
        "#' @param max_attempts_get Número de reintentos para este comando.\n",
        "#' @return Una fila de data.table (el envío más reciente) o NULL.\n",
        "get_most_recent_submission <- function(competition_name, max_attempts_get = 3) {\n",
        "\n",
        "  submissions_cmd <- sprintf(\n",
        "    \"kaggle competitions submissions -c %s --csv\",\n",
        "    shQuote(competition_name, type = \"sh\")\n",
        "  )\n",
        "\n",
        "  for (i in 1:max_attempts_get) {\n",
        "    sub_table <- NULL\n",
        "    csv_output <- NULL\n",
        "\n",
        "    tryCatch({\n",
        "      csv_output <- system(submissions_cmd, intern = TRUE, ignore.stderr = TRUE)\n",
        "\n",
        "      if (length(csv_output) < 2) {\n",
        "        cat(\"Aviso: No se encontraron envíos previos.\\n\")\n",
        "        return(NULL)\n",
        "      }\n",
        "\n",
        "      sub_table <- fread(text = csv_output)\n",
        "\n",
        "      if (nrow(sub_table) > 0) {\n",
        "        return(sub_table[1, ]) # Devuelve solo la fila más reciente\n",
        "      }\n",
        "\n",
        "    }, error = function(e) {\n",
        "      cat(\"Error al obtener/parsear envíos (Intento\", i, \"):\", e$message, \"\\n\")\n",
        "    })\n",
        "\n",
        "    if (i < max_attempts_get) {\n",
        "      Sys.sleep(5)\n",
        "    }\n",
        "  }\n",
        "\n",
        "  cat(\"Error: Fallo al obtener la lista de envíos después de\", max_attempts_get, \"intentos.\\n\")\n",
        "  return(NULL)\n",
        "}\n",
        "\n",
        "\n",
        "#' Sube un archivo a Kaggle y sondea para obtener el score.\n",
        "#'\n",
        "#' @param competition_name El nombre 'slug' de la competición.\n",
        "#' @param file_path La ruta al archivo .csv que se quiere subir.\n",
        "#' @param message El mensaje de envío (tu `-m` note).\n",
        "#' @param max_submit_attempts Reintentos para el comando de envío.\n",
        "#' @param max_poll_attempts Reintentos para el sondeo de score.\n",
        "#' @param wait_seconds Segundos de espera entre sondeos.\n",
        "#'\n",
        "#' @return El 'publicScore' (numérico) si tiene éxito.\n",
        "#'         Devuelve NULL si falla o se agota el tiempo.\n",
        "#'\n",
        "submit_and_get_score <- function(competition_name,\n",
        "                                 file_path,\n",
        "                                 message,\n",
        "                                 max_submit_attempts = 3,\n",
        "                                 max_poll_attempts = 5,\n",
        "                                 wait_seconds = 60) {\n",
        "\n",
        "  # --- 1. Verificación preliminar ---\n",
        "  if (!file.exists(file_path)) {\n",
        "    cat(\"Error: El archivo no existe en la ruta:\", file_path, \"\\n\")\n",
        "    return(NULL)\n",
        "  }\n",
        "\n",
        "  submission_filename <- basename(file_path)\n",
        "\n",
        "  # --- 2. Obtener el estado \"Antes del envío\" ---\n",
        "  cat(\"Obteniendo el estado del último envío (antes de subir)...\\n\")\n",
        "  old_submission <- get_most_recent_submission(competition_name)\n",
        "\n",
        "  old_submission_date <- if (!is.null(old_submission)) old_submission$date else \"\"\n",
        "  cat(\"Fecha del último envío conocido:\", old_submission_date, \"\\n\")\n",
        "\n",
        "\n",
        "  # --- 3. Ejecutar el envío a Kaggle (CON REINTENTOS) ---\n",
        "  cat(\"Iniciando envío de:\", submission_filename, \"a\", competition_name, \"...\\n\")\n",
        "\n",
        "  submit_cmd <- sprintf(\n",
        "    \"kaggle competitions submit -c %s -f %s -m %s -q\",\n",
        "    shQuote(competition_name, type = \"sh\"),\n",
        "    shQuote(file_path, type = \"sh\"),\n",
        "    shQuote(message, type = \"sh\")\n",
        "  )\n",
        "\n",
        "  submit_success <- FALSE\n",
        "  for (i in 1:max_submit_attempts) {\n",
        "    submit_output <- system(submit_cmd, intern = TRUE, ignore.stderr = TRUE)\n",
        "\n",
        "    if (length(submit_output) > 0 && grepl(\"Successfully submitted\",\n",
        "        submit_output[1], ignore.case = TRUE)) {\n",
        "      submit_success <- TRUE\n",
        "      cat(\"Envío exitoso. Esperando a Kaggle para procesar...\\n\")\n",
        "      break\n",
        "    } else {\n",
        "      cat(\"Fallo en el envío (Intento\", i, \"). Reintentando en 10 segundos...\\n\")\n",
        "      print(submit_output)\n",
        "      Sys.sleep(10)\n",
        "    }\n",
        "  }\n",
        "\n",
        "  if (!submit_success) {\n",
        "    cat(\"Error: El envío falló después de\", max_submit_attempts, \"intentos.\\n\")\n",
        "    return(NULL)\n",
        "  }\n",
        "\n",
        "  # --- 4. Bucle de sondeo (Polling) para el resultado ---\n",
        "  for (i in 1:max_poll_attempts) {\n",
        "    cat(\"--- Sondeo\", i, \"de\", max_poll_attempts, \"---\\n\")\n",
        "\n",
        "    if (i == 1) {\n",
        "      cat(\"Esperando\", wait_seconds, \"segundos iniciales...\\n\")\n",
        "    } else {\n",
        "      cat(\"Esperando\", wait_seconds, \"segundos...\\n\")\n",
        "    }\n",
        "    Sys.sleep(wait_seconds)\n",
        "\n",
        "\n",
        "    new_submission <- get_most_recent_submission(competition_name)\n",
        "\n",
        "    if (is.null(new_submission)) {\n",
        "      cat(\"Aún no aparece ningún envío. Reintentando...\\n\")\n",
        "      next\n",
        "    }\n",
        "\n",
        "    # --- 5. Lógica de validación ---\n",
        "\n",
        "    cat(\"Viendo Fila 1:\",\n",
        "        \"File:\", new_submission$fileName,\n",
        "        \"| Date:\", new_submission$date,\n",
        "        \"| Status:\", new_submission$status, \"\\n\")\n",
        "\n",
        "    # Comprobamos las 3 condiciones\n",
        "    date_has_changed <- (new_submission$date != old_submission_date)\n",
        "\n",
        "    # *** CAMBIO REALIZADO AQUÍ ***\n",
        "    status_is_complete <- (new_submission$status == \"SubmissionStatus.COMPLETE\")\n",
        "\n",
        "    filename_matches <- (new_submission$fileName == submission_filename)\n",
        "\n",
        "    if (date_has_changed && filename_matches && status_is_complete) {\n",
        "      cat(\"¡Éxito! Nuevo envío verificado y completado.\\n\")\n",
        "      cat(\"Score:\", new_submission$publicScore, \"\\n\")\n",
        "      return(new_submission$publicScore)\n",
        "\n",
        "    # *** CAMBIO REALIZADO AQUÍ ***\n",
        "    } else if (date_has_changed && filename_matches && new_submission$status == \"SubmissionStatus.ERROR\") {\n",
        "      cat(\"Error: El envío ha sido procesado por Kaggle pero ha fallado.\\n\")\n",
        "      return(NULL)\n",
        "\n",
        "    } else {\n",
        "      cat(\"El envío aún no está listo o no coincide. (Fecha Cambiada:\", date_has_changed,\n",
        "          \"| Nombre Coincide:\", filename_matches,\n",
        "          \"| Estado Completo:\", status_is_complete, \")\\n\")\n",
        "    }\n",
        "  }\n",
        "\n",
        "  cat(\"Error: Se agotó el tiempo de espera. No se pudo obtener el score después de\", max_poll_attempts, \"intentos.\\n\")\n",
        "  return(NULL)\n",
        "}"
      ],
      "metadata": {
        "id": "limXOsjVBjV3"
      },
      "execution_count": 28,
      "outputs": []
    },
    {
      "cell_type": "code",
      "source": [
        "PARAM <- list()\n",
        "PARAM$semilla_primigenia <- 191717\n",
        "\n",
        "# parametros  arbol\n",
        "# entreno cada arbol con solo 50% de las variables variables\n",
        "#  por ahora, es fijo\n",
        "PARAM$feature_fraction <- 0.5\n",
        "\n",
        "# voy a generar 32 arboles,\n",
        "#  a mas arboles mas tiempo de proceso y MEJOR MODELO,\n",
        "#  pero ganancias marginales\n",
        "PARAM$num_trees_max <- 32\n",
        "\n",
        "ArbolesAzarosos <- function(iteracion, x) {\n",
        "\n",
        "  tb_prediccion <- dfuture[, list(numero_de_cliente)]\n",
        "  # aqui se va acumulando la probabilidad del ensemble\n",
        "  tb_prediccion[, prob_acumulada := 0]\n",
        "\n",
        "  set.seed(PARAM$semilla_primigenia)\n",
        "  cat(\"Iteracion: \", iteracion, \"\\n\")\n",
        "  cat(\"Params: \", paste0(\"cp=\", x$cp, \"  minsplit=\", x$minsplit, \"  minbucket=\", x$minbucket, \" maxdepth=\", x$maxdepth, \"\" ), \"\\n\")\n",
        "  flush.console()\n",
        "\n",
        "  seq(PARAM$num_trees_max)\n",
        "\n",
        "  arbolito <- 1\n",
        "\n",
        "  for (arbolito in seq(PARAM$num_trees_max) ) {\n",
        "    cat( arbolito, \"\")\n",
        "    flush.console()\n",
        "    qty_campos_a_utilizar <- as.integer(length(campos_buenos)\n",
        "      * PARAM$feature_fraction)\n",
        "\n",
        "    # elijo los campos al azar\n",
        "    campos_random <- sample(campos_buenos, qty_campos_a_utilizar)\n",
        "\n",
        "    # paso de un vector a un string con los elementos\n",
        "    # separados por un signo de \"+\"\n",
        "    # este hace falta para la formula\n",
        "    campos_random <- paste(campos_random, collapse= \" + \")\n",
        "\n",
        "    # armo la formula para rpart\n",
        "    formulita <- paste0(\"clase_ternaria ~ \", campos_random)\n",
        "\n",
        "    # genero el arbol de decision\n",
        "    modelo <- rpart(formulita,\n",
        "      data= dtrain,\n",
        "      xval= 0,\n",
        "      control= x\n",
        "    )\n",
        "\n",
        "    # aplico el modelo a los datos que no tienen clase\n",
        "    prediccion <- predict(modelo, dfuture, type= \"prob\")\n",
        "\n",
        "    tb_prediccion[, prob_acumulada := prob_acumulada + prediccion[, \"BAJA+2\"]]\n",
        "\n",
        "  }\n",
        "  cat(\"finalizo construccion de arbolitos\\n\")\n",
        "  flush.console()\n",
        "\n",
        "  # reporto ganancia\n",
        "  umbral_corte <- (1 / 40) * PARAM$num_trees_max\n",
        "  tb_prediccion[, Predicted := as.numeric(prob_acumulada > umbral_corte)]\n",
        "\n",
        "  archivo_kaggle <- paste0(\n",
        "    \"KA420_BO_0_\",\n",
        "    sprintf(\"%.3d\", iteracion), # para que tenga ceros adelante\n",
        "    \".csv\"\n",
        "  )\n",
        "\n",
        "  fwrite( tb_prediccion[, list(numero_de_cliente, Predicted)],\n",
        "    file= archivo_kaggle,\n",
        "    sep= \",\"\n",
        "  )\n",
        "\n",
        "  competition_name  <- \"labo-i-2025-virtual-analista-sr\"\n",
        "  mensaje <- paste0(\"cp=\", x$cp, \"  minsplit=\", x$minsplit, \"  minbucket=\", x$minbucket, \" maxdepth=\", x$maxdepth, \"\" )\n",
        "  score <- submit_and_get_score(competition_name,\n",
        "                        archivo_kaggle,\n",
        "                        mensaje,\n",
        "                        max_submit_attempts = 5,\n",
        "                        max_poll_attempts = 5,\n",
        "                        wait_seconds = 60)\n",
        "  cat(\"score reportado: \", score, \"\\n\")\n",
        "  flush.console()\n",
        "  score\n",
        "}"
      ],
      "metadata": {
        "id": "TW-0H9us1j4m"
      },
      "execution_count": 44,
      "outputs": []
    },
    {
      "cell_type": "code",
      "source": [
        "  # comando <- \"kaggle competitions submissions\"\n",
        "  # competencia <- \"-c labo-i-2025-virtual-analista-sr\"\n",
        "\n",
        "  # linea <- paste( comando, competencia, \"--csv\")\n",
        "  # salida <- system(linea, intern=TRUE)\n",
        "  # subs <- fread(text = salida)\n",
        "  # subs[1]"
      ],
      "metadata": {
        "colab": {
          "base_uri": "https://localhost:8080/",
          "height": 129
        },
        "id": "hrE3Ww5I6-MW",
        "outputId": "c839c553-29bc-4136-ecd7-c2873d4f7075"
      },
      "execution_count": 10,
      "outputs": [
        {
          "output_type": "display_data",
          "data": {
            "text/html": [
              "<table class=\"dataframe\">\n",
              "<caption>A data.table: 1 × 6</caption>\n",
              "<thead>\n",
              "\t<tr><th scope=col>fileName</th><th scope=col>date</th><th scope=col>description</th><th scope=col>status</th><th scope=col>publicScore</th><th scope=col>privateScore</th></tr>\n",
              "\t<tr><th scope=col>&lt;chr&gt;</th><th scope=col>&lt;dttm&gt;</th><th scope=col>&lt;chr&gt;</th><th scope=col>&lt;chr&gt;</th><th scope=col>&lt;dbl&gt;</th><th scope=col>&lt;lgl&gt;</th></tr>\n",
              "</thead>\n",
              "<tbody>\n",
              "\t<tr><td>KA420_256.csv</td><td>2025-10-26 22:53:08</td><td>cp=-1  minsplit=475  minbucket=238 maxdepth=7</td><td>SubmissionStatus.COMPLETE</td><td>54.727</td><td>NA</td></tr>\n",
              "</tbody>\n",
              "</table>\n"
            ],
            "text/markdown": "\nA data.table: 1 × 6\n\n| fileName &lt;chr&gt; | date &lt;dttm&gt; | description &lt;chr&gt; | status &lt;chr&gt; | publicScore &lt;dbl&gt; | privateScore &lt;lgl&gt; |\n|---|---|---|---|---|---|\n| KA420_256.csv | 2025-10-26 22:53:08 | cp=-1  minsplit=475  minbucket=238 maxdepth=7 | SubmissionStatus.COMPLETE | 54.727 | NA |\n\n",
            "text/latex": "A data.table: 1 × 6\n\\begin{tabular}{llllll}\n fileName & date & description & status & publicScore & privateScore\\\\\n <chr> & <dttm> & <chr> & <chr> & <dbl> & <lgl>\\\\\n\\hline\n\t KA420\\_256.csv & 2025-10-26 22:53:08 & cp=-1  minsplit=475  minbucket=238 maxdepth=7 & SubmissionStatus.COMPLETE & 54.727 & NA\\\\\n\\end{tabular}\n",
            "text/plain": [
              "  fileName      date               \n",
              "1 KA420_256.csv 2025-10-26 22:53:08\n",
              "  description                                   status                   \n",
              "1 cp=-1  minsplit=475  minbucket=238 maxdepth=7 SubmissionStatus.COMPLETE\n",
              "  publicScore privateScore\n",
              "1 54.727      NA          "
            ]
          },
          "metadata": {}
        }
      ]
    },
    {
      "cell_type": "code",
      "source": [
        "EstimarGanancia <- function(x) {\n",
        "  message(format(Sys.time(), \"%a %b %d %X %Y\"))\n",
        "  GLOBAL_iteracion <<- GLOBAL_iteracion + 1\n",
        "\n",
        "  # param= x los hiperparametros del arbol\n",
        "  # qfolds= xval_folds  la cantidad de folds\n",
        "  ganancia <- ArbolesAzarosos(GLOBAL_iteracion, x)\n",
        "\n",
        "  return(ganancia)\n",
        "}\n"
      ],
      "metadata": {
        "id": "lOVzHECRNUkm"
      },
      "execution_count": 39,
      "outputs": []
    },
    {
      "cell_type": "code",
      "source": [
        "# Defino la  Optimizacion Bayesiana\n",
        "\n",
        "# cantidad de iteraciones de la Optimizacion Bayesiana\n",
        "PARAM <- list()\n",
        "\n",
        "PARAM$semilla_primigenia <- 191717\n",
        "#PARAM$experimento <- \"HT420\"\n",
        "\n",
        "PARAM$BO_iter <- 40 #cantidad de iteraciones de la Bayesian Optimization\n",
        "\n",
        "# la letra L al final de 1L significa ENTERO\n",
        "PARAM$hs <- makeParamSet(\n",
        "  makeNumericParam(\"cp\", lower= -1, upper= 0.1),\n",
        "  makeIntegerParam(\"minsplit\", lower= 1L, upper= 8000L),\n",
        "  makeIntegerParam(\"minbucket\", lower= 1L, upper= 4000L),\n",
        "  makeIntegerParam(\"maxdepth\", lower= 3L, upper= 20L),\n",
        "  forbidden= quote(minbucket > 0.5 * minsplit)\n",
        ")\n",
        "# minbuket NO PUEDE ser mayor que la mitad de minsplit\n",
        "\n",
        "archivo_log <- \"BO_log.txt\"\n",
        "archivo_BO <- \"bayesian.RDATA\"\n",
        "\n",
        "# leo si ya existe el log\n",
        "#  para retomar en caso que se se corte el programa\n",
        "GLOBAL_iteracion <- 0\n",
        "GLOBAL_mejor <- -Inf\n",
        "\n",
        "if (file.exists(archivo_log)) {\n",
        "  tabla_log <- fread(archivo_log)\n",
        "  GLOBAL_iteracion <- nrow(tabla_log)\n",
        "  GLOBAL_mejor <- tabla_log[, max(ganancia)]\n",
        "}\n",
        "\n",
        "# Aqui comienza la configuracion de la Bayesian Optimization\n",
        "\n",
        "funcion_optimizar <- EstimarGanancia\n",
        "\n",
        "configureMlr(show.learner.output= FALSE)\n",
        "\n",
        "# configuro la busqueda bayesiana,\n",
        "#  los hiperparametros que se van a optimizar\n",
        "# por favor, no desesperarse por lo complejo\n",
        "# minimize= FALSE estoy Maximizando la ganancia\n",
        "obj.fun <- makeSingleObjectiveFunction(\n",
        "  fn= funcion_optimizar,\n",
        "  minimize= FALSE,\n",
        "  noisy= TRUE,\n",
        "  par.set= PARAM$hs,\n",
        "  has.simple.signature= FALSE\n",
        ")\n",
        "\n",
        "ctrl <- makeMBOControl(\n",
        "  save.on.disk.at.time= 600,\n",
        "  save.file.path= archivo_BO\n",
        ")\n",
        "\n",
        "ctrl <- setMBOControlTermination(ctrl, iters= PARAM$BO_iter)\n",
        "ctrl <- setMBOControlInfill(ctrl, crit= makeMBOInfillCritEI())\n",
        "\n",
        "surr.km <- makeLearner(\"regr.km\",\n",
        "                       predict.type= \"se\",\n",
        "                       covtype= \"matern3_2\", control= list(trace= TRUE)\n",
        ")\n",
        "\n",
        "\n",
        "# inicio la optimizacion bayesiana\n",
        "if (!file.exists(archivo_BO)) {\n",
        "  bayesiana_salida <- mbo(\n",
        "    fun= obj.fun,\n",
        "    learner= surr.km,\n",
        "    control= ctrl\n",
        "  )\n",
        "} else {\n",
        "  bayesiana_salida <- mboContinue(archivo_BO)\n",
        "}\n",
        "# retomo en caso que ya exista\n",
        "\n",
        "\n",
        "# almaceno los resultados de la Bayesian Optimization\n",
        "# y capturo los mejores hiperparametros encontrados\n",
        "\n",
        "tb_bayesiana <- as.data.table(bayesiana_salida$opt.path)\n",
        "\n",
        "# ordeno en forma descendente por AUC = y\n",
        "setorder(tb_bayesiana, -y)\n",
        "\n",
        "# grabo para eventualmente poder utilizarlos en OTRA corrida\n",
        "fwrite( tb_bayesiana,\n",
        "        file= \"BO_log.txt\",\n",
        "        sep= \"\\t\"\n",
        ")\n",
        "\n",
        "# los mejores hiperparámetros son los que quedaron en el registro 1 de la tabla\n",
        "PARAM$out$lgbm$mejores_hiperparametros <- tb_bayesiana[\n",
        "  1, # el primero es el de mejor AUC\n",
        "  list(cp, minsplit, minbucket, maxdepth)\n",
        "]\n",
        "\n",
        "print(PARAM$out$lgbm$mejores_hiperparametros)"
      ],
      "metadata": {
        "colab": {
          "base_uri": "https://localhost:8080/"
        },
        "id": "rUEdsTQsM-Ka",
        "outputId": "4382cb95-bd8a-4b10-c399-52f70eb05ae4"
      },
      "execution_count": 45,
      "outputs": [
        {
          "output_type": "stream",
          "name": "stderr",
          "text": [
            "Computing y column(s) for design. Not provided.\n",
            "\n",
            "Mon Oct 27 01:53:35 AM 2025\n",
            "\n"
          ]
        },
        {
          "output_type": "stream",
          "name": "stdout",
          "text": [
            "Iteracion:  1 \n",
            "Params:  cp=-0.190153969467792  minsplit=6173  minbucket=430 maxdepth=5 \n",
            "finalizo construccion de arbolitos\n"
          ]
        }
      ]
    },
    {
      "cell_type": "markdown",
      "metadata": {
        "id": "UMr6Z1enOyd3"
      },
      "source": [
        "\n",
        "\n",
        "---\n",
        "\n"
      ]
    }
  ]
}