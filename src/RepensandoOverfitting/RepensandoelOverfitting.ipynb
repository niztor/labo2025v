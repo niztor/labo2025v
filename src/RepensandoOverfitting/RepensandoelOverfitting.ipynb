{
  "nbformat": 4,
  "nbformat_minor": 0,
  "metadata": {
    "colab": {
      "provenance": []
    },
    "kernelspec": {
      "name": "ir",
      "display_name": "R"
    },
    "language_info": {
      "name": "R"
    }
  },
  "cells": [
    {
      "cell_type": "markdown",
      "source": [
        "# 5. Repensando el Overfitting"
      ],
      "metadata": {
        "id": "kgJ0E--L0n9s"
      }
    },
    {
      "cell_type": "markdown",
      "metadata": {
        "id": "3m0ySYPfa7Zr"
      },
      "source": [
        "#### 5.1 Seteo del ambiente en Google Colab"
      ]
    },
    {
      "cell_type": "markdown",
      "metadata": {
        "id": "NGY7H9xza7Zr"
      },
      "source": [
        "Esta parte se debe correr con el runtime en Python3\n",
        "<br>Ir al menu, Runtime -> Change Runtime Type -> Runtime type ->  **Python 3**"
      ]
    },
    {
      "cell_type": "markdown",
      "metadata": {
        "id": "7PupIBNba7Zr"
      },
      "source": [
        "Conectar la virtual machine donde esta corriendo Google Colab con el  Google Drive, para poder tener persistencia de archivos"
      ]
    },
    {
      "cell_type": "code",
      "execution_count": 1,
      "metadata": {
        "id": "9LpZCst5a7Zs",
        "outputId": "c3a4f5f8-35b6-4a65-986e-db1e1d76a9e2",
        "colab": {
          "base_uri": "https://localhost:8080/"
        }
      },
      "outputs": [
        {
          "output_type": "stream",
          "name": "stdout",
          "text": [
            "Mounted at /content/.drive\n"
          ]
        }
      ],
      "source": [
        "# primero establecer el Runtime de Python 3\n",
        "from google.colab import drive\n",
        "drive.mount('/content/.drive')"
      ]
    },
    {
      "cell_type": "markdown",
      "metadata": {
        "id": "JYC_F-wla7Zs"
      },
      "source": [
        "Para correr la siguiente celda es fundamental en Arranque en Frio haber copiado el archivo kaggle.json al Google Drive, en la carpeta indicada en el instructivo\n",
        "\n",
        "<br>los siguientes comando estan en shell script de Linux\n",
        "*   Crear las carpetas en el Google Drive\n",
        "*   \"instalar\" el archivo kaggle.json desde el Google Drive a la virtual machine para que pueda ser utilizado por la libreria  kaggle de Python\n",
        "*   Bajar el  **dataset_pequeno**  al  Google Drive  y tambien al disco local de la virtual machine que esta corriendo Google Colab\n",
        "\n"
      ]
    },
    {
      "cell_type": "code",
      "execution_count": 2,
      "metadata": {
        "id": "XWLelftXa7Zt",
        "outputId": "040d10ae-9554-4978-ae6c-9b7f061d7b5e",
        "colab": {
          "base_uri": "https://localhost:8080/"
        }
      },
      "outputs": [
        {
          "output_type": "execute_result",
          "data": {
            "text/plain": []
          },
          "metadata": {},
          "execution_count": 2
        }
      ],
      "source": [
        "%%shell\n",
        "\n",
        "mkdir -p \"/content/.drive/My Drive/labo1\"\n",
        "mkdir -p \"/content/buckets\"\n",
        "ln -s \"/content/.drive/My Drive/labo1\" /content/buckets/b1\n",
        "\n",
        "mkdir -p ~/.kaggle\n",
        "cp /content/buckets/b1/kaggle/kaggle.json  ~/.kaggle\n",
        "chmod 600 ~/.kaggle/kaggle.json\n",
        "\n",
        "\n",
        "mkdir -p /content/buckets/b1/exp\n",
        "mkdir -p /content/buckets/b1/datasets\n",
        "mkdir -p /content/datasets\n",
        "\n",
        "\n",
        "\n",
        "archivo_origen=\"https://storage.googleapis.com/open-courses/austral2025-af91/dataset_pequeno.csv\"\n",
        "archivo_destino=\"/content/datasets/dataset_pequeno.csv\"\n",
        "archivo_destino_bucket=\"/content/buckets/b1/datasets/dataset_pequeno.csv\"\n",
        "\n",
        "if ! test -f $archivo_destino_bucket; then\n",
        "  wget  $archivo_origen  -O $archivo_destino_bucket\n",
        "fi\n",
        "\n",
        "\n",
        "if ! test -f $archivo_destino; then\n",
        "  cp  $archivo_destino_bucket  $archivo_destino\n",
        "fi\n",
        "\n"
      ]
    },
    {
      "cell_type": "markdown",
      "metadata": {
        "id": "Pc9x9DnsNlZv"
      },
      "source": [
        "\n",
        "\n",
        "---\n",
        "\n"
      ]
    },
    {
      "cell_type": "markdown",
      "source": [
        "## 5.2 rpart  Canaritos"
      ],
      "metadata": {
        "id": "qq0KVOtq1K5D"
      }
    },
    {
      "cell_type": "markdown",
      "source": [
        "Se agregarán canaritos al dataset, se entrenará el arbol con los mejores hiperparámetros encontrados, y se analizará si los canaritos aparecen en algun split."
      ],
      "metadata": {
        "id": "0c7kTdNi-_KR"
      }
    },
    {
      "cell_type": "markdown",
      "metadata": {
        "id": "JxhSJ-oqb-r6"
      },
      "source": [
        "Esta parte se debe correr con el runtime en lenguaje **R** Ir al menu, Runtime -> Change Runtime Type -> Runtime type -> R"
      ]
    },
    {
      "cell_type": "markdown",
      "metadata": {
        "id": "ls15rN6Ob-r7"
      },
      "source": [
        "limpio el ambiente de R"
      ]
    },
    {
      "cell_type": "code",
      "execution_count": 1,
      "metadata": {
        "id": "QrRq-FePb-r7",
        "outputId": "11e7e8f9-ffa7-4e35-d141-f2fa72af69a9",
        "colab": {
          "base_uri": "https://localhost:8080/",
          "height": 129
        }
      },
      "outputs": [
        {
          "output_type": "display_data",
          "data": {
            "text/html": [
              "<table class=\"dataframe\">\n",
              "<caption>A matrix: 2 × 6 of type dbl</caption>\n",
              "<thead>\n",
              "\t<tr><th></th><th scope=col>used</th><th scope=col>(Mb)</th><th scope=col>gc trigger</th><th scope=col>(Mb)</th><th scope=col>max used</th><th scope=col>(Mb)</th></tr>\n",
              "</thead>\n",
              "<tbody>\n",
              "\t<tr><th scope=row>Ncells</th><td> 657244</td><td>35.2</td><td>1454462</td><td>77.7</td><td>1326122</td><td>70.9</td></tr>\n",
              "\t<tr><th scope=row>Vcells</th><td>1220271</td><td> 9.4</td><td>8388608</td><td>64.0</td><td>1975128</td><td>15.1</td></tr>\n",
              "</tbody>\n",
              "</table>\n"
            ],
            "text/markdown": "\nA matrix: 2 × 6 of type dbl\n\n| <!--/--> | used | (Mb) | gc trigger | (Mb) | max used | (Mb) |\n|---|---|---|---|---|---|---|\n| Ncells |  657244 | 35.2 | 1454462 | 77.7 | 1326122 | 70.9 |\n| Vcells | 1220271 |  9.4 | 8388608 | 64.0 | 1975128 | 15.1 |\n\n",
            "text/latex": "A matrix: 2 × 6 of type dbl\n\\begin{tabular}{r|llllll}\n  & used & (Mb) & gc trigger & (Mb) & max used & (Mb)\\\\\n\\hline\n\tNcells &  657244 & 35.2 & 1454462 & 77.7 & 1326122 & 70.9\\\\\n\tVcells & 1220271 &  9.4 & 8388608 & 64.0 & 1975128 & 15.1\\\\\n\\end{tabular}\n",
            "text/plain": [
              "       used    (Mb) gc trigger (Mb) max used (Mb)\n",
              "Ncells  657244 35.2 1454462    77.7 1326122  70.9\n",
              "Vcells 1220271  9.4 8388608    64.0 1975128  15.1"
            ]
          },
          "metadata": {}
        }
      ],
      "source": [
        "# limpio la memoria\n",
        "rm(list=ls(all.names=TRUE)) # remove all objects\n",
        "gc(full=TRUE, verbose=FALSE) # garbage collection"
      ]
    },
    {
      "cell_type": "code",
      "execution_count": 2,
      "metadata": {
        "id": "IIeRpVlZb-r8",
        "outputId": "631576db-7e8b-440b-aeeb-b159c5939132",
        "colab": {
          "base_uri": "https://localhost:8080/"
        }
      },
      "outputs": [
        {
          "output_type": "stream",
          "name": "stderr",
          "text": [
            "Loading required package: data.table\n",
            "\n",
            "Loading required package: rpart\n",
            "\n",
            "Loading required package: rpart.plot\n",
            "\n",
            "Warning message in library(package, lib.loc = lib.loc, character.only = TRUE, logical.return = TRUE, :\n",
            "“there is no package called ‘rpart.plot’”\n",
            "Installing package into ‘/usr/local/lib/R/site-library’\n",
            "(as ‘lib’ is unspecified)\n",
            "\n",
            "Loading required package: rpart.plot\n",
            "\n"
          ]
        }
      ],
      "source": [
        "# cargo las librerias que necesito\n",
        "require(\"data.table\")\n",
        "require(\"rpart\")\n",
        "if(!require(\"rpart.plot\")) install.packages(\"rpart.plot\")\n",
        "require(\"rpart.plot\")"
      ]
    },
    {
      "cell_type": "markdown",
      "source": [
        "### 5.2.1  carga manual de hipoerparámetros\n",
        "Aqui debe cargar SU semilla primigenia y\n",
        "<br> SUS mejores hiperparámetros que encontró para el ARBOL DE DECISION, ya sea por Grid Search o  Bayesian Optimization"
      ],
      "metadata": {
        "id": "H1ZzAj6S4DUF"
      }
    },
    {
      "cell_type": "code",
      "source": [
        "PARAM <- list()\n",
        "PARAM$semilla_primigenia <- 191717\n",
        "\n",
        "PARAM$rpart$cp <- -0.5\n",
        "PARAM$rpart$minsplit <- 720\n",
        "PARAM$rpart$minbucket <- 41\n",
        "PARAM$rpart$maxdepth <- 10"
      ],
      "metadata": {
        "id": "2qpjKn_e4H9l"
      },
      "execution_count": 3,
      "outputs": []
    },
    {
      "cell_type": "code",
      "source": [
        "# carpeta de trabajo\n",
        "setwd(\"/content/buckets/b1/exp\")\n",
        "experimento <- \"exp5200\"\n",
        "dir.create(experimento, showWarnings=FALSE)\n",
        "setwd( paste0(\"/content/buckets/b1/exp/\", experimento ))"
      ],
      "metadata": {
        "id": "3Wb-iYIGb-r8"
      },
      "execution_count": 4,
      "outputs": []
    },
    {
      "cell_type": "code",
      "source": [
        "# lectura del dataset\n",
        "dataset <- fread(\"/content/datasets/dataset_pequeno.csv\")"
      ],
      "metadata": {
        "id": "SL7gcMhG7mwv"
      },
      "execution_count": 5,
      "outputs": []
    },
    {
      "cell_type": "code",
      "source": [
        "nrow(dataset)\n",
        "colnames(dataset)\n",
        "length(colnames(dataset))\n",
        "dataset[,.(cantidad=.N),by=foto_mes]"
      ],
      "metadata": {
        "id": "W-ZNAcOIVK_3",
        "outputId": "254e945e-c62c-40a2-8302-c076d3e17e7f",
        "colab": {
          "base_uri": "https://localhost:8080/",
          "height": 543
        }
      },
      "execution_count": 16,
      "outputs": [
        {
          "output_type": "display_data",
          "data": {
            "text/html": [
              "329689"
            ],
            "text/markdown": "329689",
            "text/latex": "329689",
            "text/plain": [
              "[1] 329689"
            ]
          },
          "metadata": {}
        },
        {
          "output_type": "display_data",
          "data": {
            "text/html": [
              "<style>\n",
              ".list-inline {list-style: none; margin:0; padding: 0}\n",
              ".list-inline>li {display: inline-block}\n",
              ".list-inline>li:not(:last-child)::after {content: \"\\00b7\"; padding: 0 .5ex}\n",
              "</style>\n",
              "<ol class=list-inline><li>'numero_de_cliente'</li><li>'foto_mes'</li><li>'active_quarter'</li><li>'cliente_vip'</li><li>'internet'</li><li>'cliente_edad'</li><li>'cliente_antiguedad'</li><li>'mrentabilidad'</li><li>'mrentabilidad_annual'</li><li>'mcomisiones'</li><li>'mactivos_margen'</li><li>'mpasivos_margen'</li><li>'cproductos'</li><li>'tcuentas'</li><li>'ccuenta_corriente'</li><li>'mcuenta_corriente_adicional'</li><li>'mcuenta_corriente'</li><li>'ccaja_ahorro'</li><li>'mcaja_ahorro'</li><li>'mcaja_ahorro_adicional'</li><li>'mcaja_ahorro_dolares'</li><li>'cdescubierto_preacordado'</li><li>'mcuentas_saldo'</li><li>'ctarjeta_debito'</li><li>'ctarjeta_debito_transacciones'</li><li>'mautoservicio'</li><li>'ctarjeta_visa'</li><li>'ctarjeta_visa_transacciones'</li><li>'mtarjeta_visa_consumo'</li><li>'ctarjeta_master'</li><li>'ctarjeta_master_transacciones'</li><li>'mtarjeta_master_consumo'</li><li>'cprestamos_personales'</li><li>'mprestamos_personales'</li><li>'cprestamos_prendarios'</li><li>'mprestamos_prendarios'</li><li>'cprestamos_hipotecarios'</li><li>'mprestamos_hipotecarios'</li><li>'cplazo_fijo'</li><li>'mplazo_fijo_dolares'</li><li>'mplazo_fijo_pesos'</li><li>'cinversion1'</li><li>'minversion1_pesos'</li><li>'minversion1_dolares'</li><li>'cinversion2'</li><li>'minversion2'</li><li>'cseguro_vida'</li><li>'cseguro_auto'</li><li>'cseguro_vivienda'</li><li>'cseguro_accidentes_personales'</li><li>'ccaja_seguridad'</li><li>'cpayroll_trx'</li><li>'mpayroll'</li><li>'mpayroll2'</li><li>'cpayroll2_trx'</li><li>'ccuenta_debitos_automaticos'</li><li>'mcuenta_debitos_automaticos'</li><li>'ctarjeta_visa_debitos_automaticos'</li><li>'mttarjeta_visa_debitos_automaticos'</li><li>'ctarjeta_master_debitos_automaticos'</li><li>'mttarjeta_master_debitos_automaticos'</li><li>'cpagodeservicios'</li><li>'mpagodeservicios'</li><li>'cpagomiscuentas'</li><li>'mpagomiscuentas'</li><li>'ccajeros_propios_descuentos'</li><li>'mcajeros_propios_descuentos'</li><li>'ctarjeta_visa_descuentos'</li><li>'mtarjeta_visa_descuentos'</li><li>'ctarjeta_master_descuentos'</li><li>'mtarjeta_master_descuentos'</li><li>'ccomisiones_mantenimiento'</li><li>'mcomisiones_mantenimiento'</li><li>'ccomisiones_otras'</li><li>'mcomisiones_otras'</li><li>'cforex'</li><li>'cforex_buy'</li><li>'mforex_buy'</li><li>'cforex_sell'</li><li>'mforex_sell'</li><li>'ctransferencias_recibidas'</li><li>'mtransferencias_recibidas'</li><li>'ctransferencias_emitidas'</li><li>'mtransferencias_emitidas'</li><li>'cextraccion_autoservicio'</li><li>'mextraccion_autoservicio'</li><li>'ccheques_depositados'</li><li>'mcheques_depositados'</li><li>'ccheques_emitidos'</li><li>'mcheques_emitidos'</li><li>'ccheques_depositados_rechazados'</li><li>'mcheques_depositados_rechazados'</li><li>'ccheques_emitidos_rechazados'</li><li>'mcheques_emitidos_rechazados'</li><li>'tcallcenter'</li><li>'ccallcenter_transacciones'</li><li>'thomebanking'</li><li>'chomebanking_transacciones'</li><li>'ccajas_transacciones'</li><li>'ccajas_consultas'</li><li>'ccajas_depositos'</li><li>'ccajas_extracciones'</li><li>'ccajas_otras'</li><li>'catm_trx'</li><li>'matm'</li><li>'catm_trx_other'</li><li>'matm_other'</li><li>'ctrx_quarter'</li><li>'tmobile_app'</li><li>'cmobile_app_trx'</li><li>'Master_delinquency'</li><li>'Master_status'</li><li>'Master_mfinanciacion_limite'</li><li>'Master_Fvencimiento'</li><li>'Master_Finiciomora'</li><li>'Master_msaldototal'</li><li>'Master_msaldopesos'</li><li>'Master_msaldodolares'</li><li>'Master_mconsumospesos'</li><li>'Master_mconsumosdolares'</li><li>'Master_mlimitecompra'</li><li>'Master_madelantopesos'</li><li>'Master_madelantodolares'</li><li>'Master_fultimo_cierre'</li><li>'Master_mpagado'</li><li>'Master_mpagospesos'</li><li>'Master_mpagosdolares'</li><li>'Master_fechaalta'</li><li>'Master_mconsumototal'</li><li>'Master_cconsumos'</li><li>'Master_cadelantosefectivo'</li><li>'Master_mpagominimo'</li><li>'Visa_delinquency'</li><li>'Visa_status'</li><li>'Visa_mfinanciacion_limite'</li><li>'Visa_Fvencimiento'</li><li>'Visa_Finiciomora'</li><li>'Visa_msaldototal'</li><li>'Visa_msaldopesos'</li><li>'Visa_msaldodolares'</li><li>'Visa_mconsumospesos'</li><li>'Visa_mconsumosdolares'</li><li>'Visa_mlimitecompra'</li><li>'Visa_madelantopesos'</li><li>'Visa_madelantodolares'</li><li>'Visa_fultimo_cierre'</li><li>'Visa_mpagado'</li><li>'Visa_mpagospesos'</li><li>'Visa_mpagosdolares'</li><li>'Visa_fechaalta'</li><li>'Visa_mconsumototal'</li><li>'Visa_cconsumos'</li><li>'Visa_cadelantosefectivo'</li><li>'Visa_mpagominimo'</li><li>'clase_ternaria'</li></ol>\n"
            ],
            "text/markdown": "1. 'numero_de_cliente'\n2. 'foto_mes'\n3. 'active_quarter'\n4. 'cliente_vip'\n5. 'internet'\n6. 'cliente_edad'\n7. 'cliente_antiguedad'\n8. 'mrentabilidad'\n9. 'mrentabilidad_annual'\n10. 'mcomisiones'\n11. 'mactivos_margen'\n12. 'mpasivos_margen'\n13. 'cproductos'\n14. 'tcuentas'\n15. 'ccuenta_corriente'\n16. 'mcuenta_corriente_adicional'\n17. 'mcuenta_corriente'\n18. 'ccaja_ahorro'\n19. 'mcaja_ahorro'\n20. 'mcaja_ahorro_adicional'\n21. 'mcaja_ahorro_dolares'\n22. 'cdescubierto_preacordado'\n23. 'mcuentas_saldo'\n24. 'ctarjeta_debito'\n25. 'ctarjeta_debito_transacciones'\n26. 'mautoservicio'\n27. 'ctarjeta_visa'\n28. 'ctarjeta_visa_transacciones'\n29. 'mtarjeta_visa_consumo'\n30. 'ctarjeta_master'\n31. 'ctarjeta_master_transacciones'\n32. 'mtarjeta_master_consumo'\n33. 'cprestamos_personales'\n34. 'mprestamos_personales'\n35. 'cprestamos_prendarios'\n36. 'mprestamos_prendarios'\n37. 'cprestamos_hipotecarios'\n38. 'mprestamos_hipotecarios'\n39. 'cplazo_fijo'\n40. 'mplazo_fijo_dolares'\n41. 'mplazo_fijo_pesos'\n42. 'cinversion1'\n43. 'minversion1_pesos'\n44. 'minversion1_dolares'\n45. 'cinversion2'\n46. 'minversion2'\n47. 'cseguro_vida'\n48. 'cseguro_auto'\n49. 'cseguro_vivienda'\n50. 'cseguro_accidentes_personales'\n51. 'ccaja_seguridad'\n52. 'cpayroll_trx'\n53. 'mpayroll'\n54. 'mpayroll2'\n55. 'cpayroll2_trx'\n56. 'ccuenta_debitos_automaticos'\n57. 'mcuenta_debitos_automaticos'\n58. 'ctarjeta_visa_debitos_automaticos'\n59. 'mttarjeta_visa_debitos_automaticos'\n60. 'ctarjeta_master_debitos_automaticos'\n61. 'mttarjeta_master_debitos_automaticos'\n62. 'cpagodeservicios'\n63. 'mpagodeservicios'\n64. 'cpagomiscuentas'\n65. 'mpagomiscuentas'\n66. 'ccajeros_propios_descuentos'\n67. 'mcajeros_propios_descuentos'\n68. 'ctarjeta_visa_descuentos'\n69. 'mtarjeta_visa_descuentos'\n70. 'ctarjeta_master_descuentos'\n71. 'mtarjeta_master_descuentos'\n72. 'ccomisiones_mantenimiento'\n73. 'mcomisiones_mantenimiento'\n74. 'ccomisiones_otras'\n75. 'mcomisiones_otras'\n76. 'cforex'\n77. 'cforex_buy'\n78. 'mforex_buy'\n79. 'cforex_sell'\n80. 'mforex_sell'\n81. 'ctransferencias_recibidas'\n82. 'mtransferencias_recibidas'\n83. 'ctransferencias_emitidas'\n84. 'mtransferencias_emitidas'\n85. 'cextraccion_autoservicio'\n86. 'mextraccion_autoservicio'\n87. 'ccheques_depositados'\n88. 'mcheques_depositados'\n89. 'ccheques_emitidos'\n90. 'mcheques_emitidos'\n91. 'ccheques_depositados_rechazados'\n92. 'mcheques_depositados_rechazados'\n93. 'ccheques_emitidos_rechazados'\n94. 'mcheques_emitidos_rechazados'\n95. 'tcallcenter'\n96. 'ccallcenter_transacciones'\n97. 'thomebanking'\n98. 'chomebanking_transacciones'\n99. 'ccajas_transacciones'\n100. 'ccajas_consultas'\n101. 'ccajas_depositos'\n102. 'ccajas_extracciones'\n103. 'ccajas_otras'\n104. 'catm_trx'\n105. 'matm'\n106. 'catm_trx_other'\n107. 'matm_other'\n108. 'ctrx_quarter'\n109. 'tmobile_app'\n110. 'cmobile_app_trx'\n111. 'Master_delinquency'\n112. 'Master_status'\n113. 'Master_mfinanciacion_limite'\n114. 'Master_Fvencimiento'\n115. 'Master_Finiciomora'\n116. 'Master_msaldototal'\n117. 'Master_msaldopesos'\n118. 'Master_msaldodolares'\n119. 'Master_mconsumospesos'\n120. 'Master_mconsumosdolares'\n121. 'Master_mlimitecompra'\n122. 'Master_madelantopesos'\n123. 'Master_madelantodolares'\n124. 'Master_fultimo_cierre'\n125. 'Master_mpagado'\n126. 'Master_mpagospesos'\n127. 'Master_mpagosdolares'\n128. 'Master_fechaalta'\n129. 'Master_mconsumototal'\n130. 'Master_cconsumos'\n131. 'Master_cadelantosefectivo'\n132. 'Master_mpagominimo'\n133. 'Visa_delinquency'\n134. 'Visa_status'\n135. 'Visa_mfinanciacion_limite'\n136. 'Visa_Fvencimiento'\n137. 'Visa_Finiciomora'\n138. 'Visa_msaldototal'\n139. 'Visa_msaldopesos'\n140. 'Visa_msaldodolares'\n141. 'Visa_mconsumospesos'\n142. 'Visa_mconsumosdolares'\n143. 'Visa_mlimitecompra'\n144. 'Visa_madelantopesos'\n145. 'Visa_madelantodolares'\n146. 'Visa_fultimo_cierre'\n147. 'Visa_mpagado'\n148. 'Visa_mpagospesos'\n149. 'Visa_mpagosdolares'\n150. 'Visa_fechaalta'\n151. 'Visa_mconsumototal'\n152. 'Visa_cconsumos'\n153. 'Visa_cadelantosefectivo'\n154. 'Visa_mpagominimo'\n155. 'clase_ternaria'\n\n\n",
            "text/latex": "\\begin{enumerate*}\n\\item 'numero\\_de\\_cliente'\n\\item 'foto\\_mes'\n\\item 'active\\_quarter'\n\\item 'cliente\\_vip'\n\\item 'internet'\n\\item 'cliente\\_edad'\n\\item 'cliente\\_antiguedad'\n\\item 'mrentabilidad'\n\\item 'mrentabilidad\\_annual'\n\\item 'mcomisiones'\n\\item 'mactivos\\_margen'\n\\item 'mpasivos\\_margen'\n\\item 'cproductos'\n\\item 'tcuentas'\n\\item 'ccuenta\\_corriente'\n\\item 'mcuenta\\_corriente\\_adicional'\n\\item 'mcuenta\\_corriente'\n\\item 'ccaja\\_ahorro'\n\\item 'mcaja\\_ahorro'\n\\item 'mcaja\\_ahorro\\_adicional'\n\\item 'mcaja\\_ahorro\\_dolares'\n\\item 'cdescubierto\\_preacordado'\n\\item 'mcuentas\\_saldo'\n\\item 'ctarjeta\\_debito'\n\\item 'ctarjeta\\_debito\\_transacciones'\n\\item 'mautoservicio'\n\\item 'ctarjeta\\_visa'\n\\item 'ctarjeta\\_visa\\_transacciones'\n\\item 'mtarjeta\\_visa\\_consumo'\n\\item 'ctarjeta\\_master'\n\\item 'ctarjeta\\_master\\_transacciones'\n\\item 'mtarjeta\\_master\\_consumo'\n\\item 'cprestamos\\_personales'\n\\item 'mprestamos\\_personales'\n\\item 'cprestamos\\_prendarios'\n\\item 'mprestamos\\_prendarios'\n\\item 'cprestamos\\_hipotecarios'\n\\item 'mprestamos\\_hipotecarios'\n\\item 'cplazo\\_fijo'\n\\item 'mplazo\\_fijo\\_dolares'\n\\item 'mplazo\\_fijo\\_pesos'\n\\item 'cinversion1'\n\\item 'minversion1\\_pesos'\n\\item 'minversion1\\_dolares'\n\\item 'cinversion2'\n\\item 'minversion2'\n\\item 'cseguro\\_vida'\n\\item 'cseguro\\_auto'\n\\item 'cseguro\\_vivienda'\n\\item 'cseguro\\_accidentes\\_personales'\n\\item 'ccaja\\_seguridad'\n\\item 'cpayroll\\_trx'\n\\item 'mpayroll'\n\\item 'mpayroll2'\n\\item 'cpayroll2\\_trx'\n\\item 'ccuenta\\_debitos\\_automaticos'\n\\item 'mcuenta\\_debitos\\_automaticos'\n\\item 'ctarjeta\\_visa\\_debitos\\_automaticos'\n\\item 'mttarjeta\\_visa\\_debitos\\_automaticos'\n\\item 'ctarjeta\\_master\\_debitos\\_automaticos'\n\\item 'mttarjeta\\_master\\_debitos\\_automaticos'\n\\item 'cpagodeservicios'\n\\item 'mpagodeservicios'\n\\item 'cpagomiscuentas'\n\\item 'mpagomiscuentas'\n\\item 'ccajeros\\_propios\\_descuentos'\n\\item 'mcajeros\\_propios\\_descuentos'\n\\item 'ctarjeta\\_visa\\_descuentos'\n\\item 'mtarjeta\\_visa\\_descuentos'\n\\item 'ctarjeta\\_master\\_descuentos'\n\\item 'mtarjeta\\_master\\_descuentos'\n\\item 'ccomisiones\\_mantenimiento'\n\\item 'mcomisiones\\_mantenimiento'\n\\item 'ccomisiones\\_otras'\n\\item 'mcomisiones\\_otras'\n\\item 'cforex'\n\\item 'cforex\\_buy'\n\\item 'mforex\\_buy'\n\\item 'cforex\\_sell'\n\\item 'mforex\\_sell'\n\\item 'ctransferencias\\_recibidas'\n\\item 'mtransferencias\\_recibidas'\n\\item 'ctransferencias\\_emitidas'\n\\item 'mtransferencias\\_emitidas'\n\\item 'cextraccion\\_autoservicio'\n\\item 'mextraccion\\_autoservicio'\n\\item 'ccheques\\_depositados'\n\\item 'mcheques\\_depositados'\n\\item 'ccheques\\_emitidos'\n\\item 'mcheques\\_emitidos'\n\\item 'ccheques\\_depositados\\_rechazados'\n\\item 'mcheques\\_depositados\\_rechazados'\n\\item 'ccheques\\_emitidos\\_rechazados'\n\\item 'mcheques\\_emitidos\\_rechazados'\n\\item 'tcallcenter'\n\\item 'ccallcenter\\_transacciones'\n\\item 'thomebanking'\n\\item 'chomebanking\\_transacciones'\n\\item 'ccajas\\_transacciones'\n\\item 'ccajas\\_consultas'\n\\item 'ccajas\\_depositos'\n\\item 'ccajas\\_extracciones'\n\\item 'ccajas\\_otras'\n\\item 'catm\\_trx'\n\\item 'matm'\n\\item 'catm\\_trx\\_other'\n\\item 'matm\\_other'\n\\item 'ctrx\\_quarter'\n\\item 'tmobile\\_app'\n\\item 'cmobile\\_app\\_trx'\n\\item 'Master\\_delinquency'\n\\item 'Master\\_status'\n\\item 'Master\\_mfinanciacion\\_limite'\n\\item 'Master\\_Fvencimiento'\n\\item 'Master\\_Finiciomora'\n\\item 'Master\\_msaldototal'\n\\item 'Master\\_msaldopesos'\n\\item 'Master\\_msaldodolares'\n\\item 'Master\\_mconsumospesos'\n\\item 'Master\\_mconsumosdolares'\n\\item 'Master\\_mlimitecompra'\n\\item 'Master\\_madelantopesos'\n\\item 'Master\\_madelantodolares'\n\\item 'Master\\_fultimo\\_cierre'\n\\item 'Master\\_mpagado'\n\\item 'Master\\_mpagospesos'\n\\item 'Master\\_mpagosdolares'\n\\item 'Master\\_fechaalta'\n\\item 'Master\\_mconsumototal'\n\\item 'Master\\_cconsumos'\n\\item 'Master\\_cadelantosefectivo'\n\\item 'Master\\_mpagominimo'\n\\item 'Visa\\_delinquency'\n\\item 'Visa\\_status'\n\\item 'Visa\\_mfinanciacion\\_limite'\n\\item 'Visa\\_Fvencimiento'\n\\item 'Visa\\_Finiciomora'\n\\item 'Visa\\_msaldototal'\n\\item 'Visa\\_msaldopesos'\n\\item 'Visa\\_msaldodolares'\n\\item 'Visa\\_mconsumospesos'\n\\item 'Visa\\_mconsumosdolares'\n\\item 'Visa\\_mlimitecompra'\n\\item 'Visa\\_madelantopesos'\n\\item 'Visa\\_madelantodolares'\n\\item 'Visa\\_fultimo\\_cierre'\n\\item 'Visa\\_mpagado'\n\\item 'Visa\\_mpagospesos'\n\\item 'Visa\\_mpagosdolares'\n\\item 'Visa\\_fechaalta'\n\\item 'Visa\\_mconsumototal'\n\\item 'Visa\\_cconsumos'\n\\item 'Visa\\_cadelantosefectivo'\n\\item 'Visa\\_mpagominimo'\n\\item 'clase\\_ternaria'\n\\end{enumerate*}\n",
            "text/plain": [
              "  [1] \"numero_de_cliente\"                   \n",
              "  [2] \"foto_mes\"                            \n",
              "  [3] \"active_quarter\"                      \n",
              "  [4] \"cliente_vip\"                         \n",
              "  [5] \"internet\"                            \n",
              "  [6] \"cliente_edad\"                        \n",
              "  [7] \"cliente_antiguedad\"                  \n",
              "  [8] \"mrentabilidad\"                       \n",
              "  [9] \"mrentabilidad_annual\"                \n",
              " [10] \"mcomisiones\"                         \n",
              " [11] \"mactivos_margen\"                     \n",
              " [12] \"mpasivos_margen\"                     \n",
              " [13] \"cproductos\"                          \n",
              " [14] \"tcuentas\"                            \n",
              " [15] \"ccuenta_corriente\"                   \n",
              " [16] \"mcuenta_corriente_adicional\"         \n",
              " [17] \"mcuenta_corriente\"                   \n",
              " [18] \"ccaja_ahorro\"                        \n",
              " [19] \"mcaja_ahorro\"                        \n",
              " [20] \"mcaja_ahorro_adicional\"              \n",
              " [21] \"mcaja_ahorro_dolares\"                \n",
              " [22] \"cdescubierto_preacordado\"            \n",
              " [23] \"mcuentas_saldo\"                      \n",
              " [24] \"ctarjeta_debito\"                     \n",
              " [25] \"ctarjeta_debito_transacciones\"       \n",
              " [26] \"mautoservicio\"                       \n",
              " [27] \"ctarjeta_visa\"                       \n",
              " [28] \"ctarjeta_visa_transacciones\"         \n",
              " [29] \"mtarjeta_visa_consumo\"               \n",
              " [30] \"ctarjeta_master\"                     \n",
              " [31] \"ctarjeta_master_transacciones\"       \n",
              " [32] \"mtarjeta_master_consumo\"             \n",
              " [33] \"cprestamos_personales\"               \n",
              " [34] \"mprestamos_personales\"               \n",
              " [35] \"cprestamos_prendarios\"               \n",
              " [36] \"mprestamos_prendarios\"               \n",
              " [37] \"cprestamos_hipotecarios\"             \n",
              " [38] \"mprestamos_hipotecarios\"             \n",
              " [39] \"cplazo_fijo\"                         \n",
              " [40] \"mplazo_fijo_dolares\"                 \n",
              " [41] \"mplazo_fijo_pesos\"                   \n",
              " [42] \"cinversion1\"                         \n",
              " [43] \"minversion1_pesos\"                   \n",
              " [44] \"minversion1_dolares\"                 \n",
              " [45] \"cinversion2\"                         \n",
              " [46] \"minversion2\"                         \n",
              " [47] \"cseguro_vida\"                        \n",
              " [48] \"cseguro_auto\"                        \n",
              " [49] \"cseguro_vivienda\"                    \n",
              " [50] \"cseguro_accidentes_personales\"       \n",
              " [51] \"ccaja_seguridad\"                     \n",
              " [52] \"cpayroll_trx\"                        \n",
              " [53] \"mpayroll\"                            \n",
              " [54] \"mpayroll2\"                           \n",
              " [55] \"cpayroll2_trx\"                       \n",
              " [56] \"ccuenta_debitos_automaticos\"         \n",
              " [57] \"mcuenta_debitos_automaticos\"         \n",
              " [58] \"ctarjeta_visa_debitos_automaticos\"   \n",
              " [59] \"mttarjeta_visa_debitos_automaticos\"  \n",
              " [60] \"ctarjeta_master_debitos_automaticos\" \n",
              " [61] \"mttarjeta_master_debitos_automaticos\"\n",
              " [62] \"cpagodeservicios\"                    \n",
              " [63] \"mpagodeservicios\"                    \n",
              " [64] \"cpagomiscuentas\"                     \n",
              " [65] \"mpagomiscuentas\"                     \n",
              " [66] \"ccajeros_propios_descuentos\"         \n",
              " [67] \"mcajeros_propios_descuentos\"         \n",
              " [68] \"ctarjeta_visa_descuentos\"            \n",
              " [69] \"mtarjeta_visa_descuentos\"            \n",
              " [70] \"ctarjeta_master_descuentos\"          \n",
              " [71] \"mtarjeta_master_descuentos\"          \n",
              " [72] \"ccomisiones_mantenimiento\"           \n",
              " [73] \"mcomisiones_mantenimiento\"           \n",
              " [74] \"ccomisiones_otras\"                   \n",
              " [75] \"mcomisiones_otras\"                   \n",
              " [76] \"cforex\"                              \n",
              " [77] \"cforex_buy\"                          \n",
              " [78] \"mforex_buy\"                          \n",
              " [79] \"cforex_sell\"                         \n",
              " [80] \"mforex_sell\"                         \n",
              " [81] \"ctransferencias_recibidas\"           \n",
              " [82] \"mtransferencias_recibidas\"           \n",
              " [83] \"ctransferencias_emitidas\"            \n",
              " [84] \"mtransferencias_emitidas\"            \n",
              " [85] \"cextraccion_autoservicio\"            \n",
              " [86] \"mextraccion_autoservicio\"            \n",
              " [87] \"ccheques_depositados\"                \n",
              " [88] \"mcheques_depositados\"                \n",
              " [89] \"ccheques_emitidos\"                   \n",
              " [90] \"mcheques_emitidos\"                   \n",
              " [91] \"ccheques_depositados_rechazados\"     \n",
              " [92] \"mcheques_depositados_rechazados\"     \n",
              " [93] \"ccheques_emitidos_rechazados\"        \n",
              " [94] \"mcheques_emitidos_rechazados\"        \n",
              " [95] \"tcallcenter\"                         \n",
              " [96] \"ccallcenter_transacciones\"           \n",
              " [97] \"thomebanking\"                        \n",
              " [98] \"chomebanking_transacciones\"          \n",
              " [99] \"ccajas_transacciones\"                \n",
              "[100] \"ccajas_consultas\"                    \n",
              "[101] \"ccajas_depositos\"                    \n",
              "[102] \"ccajas_extracciones\"                 \n",
              "[103] \"ccajas_otras\"                        \n",
              "[104] \"catm_trx\"                            \n",
              "[105] \"matm\"                                \n",
              "[106] \"catm_trx_other\"                      \n",
              "[107] \"matm_other\"                          \n",
              "[108] \"ctrx_quarter\"                        \n",
              "[109] \"tmobile_app\"                         \n",
              "[110] \"cmobile_app_trx\"                     \n",
              "[111] \"Master_delinquency\"                  \n",
              "[112] \"Master_status\"                       \n",
              "[113] \"Master_mfinanciacion_limite\"         \n",
              "[114] \"Master_Fvencimiento\"                 \n",
              "[115] \"Master_Finiciomora\"                  \n",
              "[116] \"Master_msaldototal\"                  \n",
              "[117] \"Master_msaldopesos\"                  \n",
              "[118] \"Master_msaldodolares\"                \n",
              "[119] \"Master_mconsumospesos\"               \n",
              "[120] \"Master_mconsumosdolares\"             \n",
              "[121] \"Master_mlimitecompra\"                \n",
              "[122] \"Master_madelantopesos\"               \n",
              "[123] \"Master_madelantodolares\"             \n",
              "[124] \"Master_fultimo_cierre\"               \n",
              "[125] \"Master_mpagado\"                      \n",
              "[126] \"Master_mpagospesos\"                  \n",
              "[127] \"Master_mpagosdolares\"                \n",
              "[128] \"Master_fechaalta\"                    \n",
              "[129] \"Master_mconsumototal\"                \n",
              "[130] \"Master_cconsumos\"                    \n",
              "[131] \"Master_cadelantosefectivo\"           \n",
              "[132] \"Master_mpagominimo\"                  \n",
              "[133] \"Visa_delinquency\"                    \n",
              "[134] \"Visa_status\"                         \n",
              "[135] \"Visa_mfinanciacion_limite\"           \n",
              "[136] \"Visa_Fvencimiento\"                   \n",
              "[137] \"Visa_Finiciomora\"                    \n",
              "[138] \"Visa_msaldototal\"                    \n",
              "[139] \"Visa_msaldopesos\"                    \n",
              "[140] \"Visa_msaldodolares\"                  \n",
              "[141] \"Visa_mconsumospesos\"                 \n",
              "[142] \"Visa_mconsumosdolares\"               \n",
              "[143] \"Visa_mlimitecompra\"                  \n",
              "[144] \"Visa_madelantopesos\"                 \n",
              "[145] \"Visa_madelantodolares\"               \n",
              "[146] \"Visa_fultimo_cierre\"                 \n",
              "[147] \"Visa_mpagado\"                        \n",
              "[148] \"Visa_mpagospesos\"                    \n",
              "[149] \"Visa_mpagosdolares\"                  \n",
              "[150] \"Visa_fechaalta\"                      \n",
              "[151] \"Visa_mconsumototal\"                  \n",
              "[152] \"Visa_cconsumos\"                      \n",
              "[153] \"Visa_cadelantosefectivo\"             \n",
              "[154] \"Visa_mpagominimo\"                    \n",
              "[155] \"clase_ternaria\"                      "
            ]
          },
          "metadata": {}
        },
        {
          "output_type": "display_data",
          "data": {
            "text/html": [
              "155"
            ],
            "text/markdown": "155",
            "text/latex": "155",
            "text/plain": [
              "[1] 155"
            ]
          },
          "metadata": {}
        },
        {
          "output_type": "display_data",
          "data": {
            "text/html": [
              "<table class=\"dataframe\">\n",
              "<caption>A data.table: 2 × 2</caption>\n",
              "<thead>\n",
              "\t<tr><th scope=col>foto_mes</th><th scope=col>cantidad</th></tr>\n",
              "\t<tr><th scope=col>&lt;int&gt;</th><th scope=col>&lt;int&gt;</th></tr>\n",
              "</thead>\n",
              "<tbody>\n",
              "\t<tr><td>202107</td><td>164596</td></tr>\n",
              "\t<tr><td>202109</td><td>165093</td></tr>\n",
              "</tbody>\n",
              "</table>\n"
            ],
            "text/markdown": "\nA data.table: 2 × 2\n\n| foto_mes &lt;int&gt; | cantidad &lt;int&gt; |\n|---|---|\n| 202107 | 164596 |\n| 202109 | 165093 |\n\n",
            "text/latex": "A data.table: 2 × 2\n\\begin{tabular}{ll}\n foto\\_mes & cantidad\\\\\n <int> & <int>\\\\\n\\hline\n\t 202107 & 164596\\\\\n\t 202109 & 165093\\\\\n\\end{tabular}\n",
            "text/plain": [
              "  foto_mes cantidad\n",
              "1 202107   164596  \n",
              "2 202109   165093  "
            ]
          },
          "metadata": {}
        }
      ]
    },
    {
      "cell_type": "code",
      "source": [
        "dataset[,.(cantidad=.N, proporcion=round(.N/nrow(dataset),4)*100), by=clase_ternaria]"
      ],
      "metadata": {
        "id": "rpwSJMJXZgkC",
        "outputId": "adebf2c6-eec7-476a-f623-413cfb4cb7bd",
        "colab": {
          "base_uri": "https://localhost:8080/",
          "height": 192
        }
      },
      "execution_count": 28,
      "outputs": [
        {
          "output_type": "display_data",
          "data": {
            "text/html": [
              "<table class=\"dataframe\">\n",
              "<caption>A data.table: 3 × 3</caption>\n",
              "<thead>\n",
              "\t<tr><th scope=col>clase_ternaria</th><th scope=col>cantidad</th><th scope=col>proporcion</th></tr>\n",
              "\t<tr><th scope=col>&lt;chr&gt;</th><th scope=col>&lt;int&gt;</th><th scope=col>&lt;dbl&gt;</th></tr>\n",
              "</thead>\n",
              "<tbody>\n",
              "\t<tr><td>CONTINUA</td><td>162211</td><td>98.55</td></tr>\n",
              "\t<tr><td>BAJA+1  </td><td>  1137</td><td> 0.69</td></tr>\n",
              "\t<tr><td>BAJA+2  </td><td>  1248</td><td> 0.76</td></tr>\n",
              "</tbody>\n",
              "</table>\n"
            ],
            "text/markdown": "\nA data.table: 3 × 3\n\n| clase_ternaria &lt;chr&gt; | cantidad &lt;int&gt; | proporcion &lt;dbl&gt; |\n|---|---|---|\n| CONTINUA | 162211 | 98.55 |\n| BAJA+1   |   1137 |  0.69 |\n| BAJA+2   |   1248 |  0.76 |\n\n",
            "text/latex": "A data.table: 3 × 3\n\\begin{tabular}{lll}\n clase\\_ternaria & cantidad & proporcion\\\\\n <chr> & <int> & <dbl>\\\\\n\\hline\n\t CONTINUA & 162211 & 98.55\\\\\n\t BAJA+1   &   1137 &  0.69\\\\\n\t BAJA+2   &   1248 &  0.76\\\\\n\\end{tabular}\n",
            "text/plain": [
              "  clase_ternaria cantidad proporcion\n",
              "1 CONTINUA       162211   98.55     \n",
              "2 BAJA+1           1137    0.69     \n",
              "3 BAJA+2           1248    0.76     "
            ]
          },
          "metadata": {}
        }
      ]
    },
    {
      "cell_type": "code",
      "source": [
        "# me quedo solo con los datos de julio\n",
        "dataset <- dataset[ foto_mes==202107,]"
      ],
      "metadata": {
        "id": "BHlykx9-8NA_"
      },
      "execution_count": 18,
      "outputs": []
    },
    {
      "cell_type": "code",
      "source": [
        "# uso esta semilla para los canaritos\n",
        "set.seed(PARAM$semila_primigenia)\n",
        "\n",
        "# agrego los siguientes canaritos\n",
        "for( i in 1:154 ) dataset[ , paste0(\"canarito\", i ) :=  runif( nrow(dataset)) ]"
      ],
      "metadata": {
        "id": "72z4891K1z_E"
      },
      "execution_count": 19,
      "outputs": []
    },
    {
      "cell_type": "code",
      "source": [
        "# Entreno el modelo\n",
        "\n",
        "modelo <- rpart(formula= \"clase_ternaria ~ .\",\n",
        "  data= dataset,\n",
        "  model= TRUE,\n",
        "  xval= 0,\n",
        "  control= PARAM$rpart\n",
        ")\n"
      ],
      "metadata": {
        "id": "xfaO_ozD4Y0N"
      },
      "execution_count": 20,
      "outputs": []
    },
    {
      "cell_type": "code",
      "source": [
        "# genero un pdf con el dibujo del arbol\n",
        "\n",
        "pdf(file = \"arbol_canaritos.pdf\", width=28, height=4)\n",
        "prp(modelo, extra=101, digits=5, branch=1, type=4, varlen=0, faclen=0)\n",
        "dev.off()"
      ],
      "metadata": {
        "id": "ZwDgjmrC5Yal",
        "outputId": "eb355084-bd8e-4f56-8299-2d95f272b166",
        "colab": {
          "base_uri": "https://localhost:8080/",
          "height": 34
        }
      },
      "execution_count": 21,
      "outputs": [
        {
          "output_type": "display_data",
          "data": {
            "text/html": [
              "<strong>agg_record_1847368158:</strong> 2"
            ],
            "text/markdown": "**agg_record_1847368158:** 2",
            "text/latex": "\\textbf{agg\\textbackslash{}\\_record\\textbackslash{}\\_1847368158:} 2",
            "text/plain": [
              "agg_record_1847368158 \n",
              "                    2 "
            ]
          },
          "metadata": {}
        }
      ]
    },
    {
      "cell_type": "markdown",
      "source": [
        "vaya a su Google Drive\n",
        "<br> busque la carpeta **My Drive / dm / exp / exp5200**\n",
        "<br> baje el archivo **arbol_canaritos.pdf**  a su laptop\n",
        "<br> abra el .pdf con el Acrobat Reader\n",
        "<br> y dentro del .pdf busque splits hechos en alguna de las nuevas variables canaritos"
      ],
      "metadata": {
        "id": "26LBeK-I5k5c"
      }
    },
    {
      "cell_type": "markdown",
      "metadata": {
        "id": "b4U52Ihb-14p"
      },
      "source": [
        "\n",
        "\n",
        "---\n",
        "\n"
      ]
    },
    {
      "cell_type": "markdown",
      "source": [
        "## 5.3 rpart  Canaritos desconfiados"
      ],
      "metadata": {
        "id": "qoFpyWI0-14p"
      }
    },
    {
      "cell_type": "markdown",
      "metadata": {
        "id": "I8FK-RWE_oW7"
      },
      "source": [
        "Esta parte se debe correr con el runtime en lenguaje **R** Ir al menu, Runtime -> Change Runtime Type -> Runtime type -> R"
      ]
    },
    {
      "cell_type": "markdown",
      "metadata": {
        "id": "NZtBtrs0_oW7"
      },
      "source": [
        "limpio el ambiente de R"
      ]
    },
    {
      "cell_type": "code",
      "execution_count": 29,
      "metadata": {
        "id": "lKr5vmvF_oW7",
        "outputId": "3bb925b2-a773-446f-b3c0-aa16c4b0b159",
        "colab": {
          "base_uri": "https://localhost:8080/",
          "height": 129
        }
      },
      "outputs": [
        {
          "output_type": "display_data",
          "data": {
            "text/html": [
              "<table class=\"dataframe\">\n",
              "<caption>A matrix: 2 × 6 of type dbl</caption>\n",
              "<thead>\n",
              "\t<tr><th></th><th scope=col>used</th><th scope=col>(Mb)</th><th scope=col>gc trigger</th><th scope=col>(Mb)</th><th scope=col>max used</th><th scope=col>(Mb)</th></tr>\n",
              "</thead>\n",
              "<tbody>\n",
              "\t<tr><th scope=row>Ncells</th><td> 839115</td><td>44.9</td><td>  1454462</td><td>  77.7</td><td>  1454462</td><td>  77.7</td></tr>\n",
              "\t<tr><th scope=row>Vcells</th><td>1706370</td><td>13.1</td><td>172412704</td><td>1315.5</td><td>215503232</td><td>1644.2</td></tr>\n",
              "</tbody>\n",
              "</table>\n"
            ],
            "text/markdown": "\nA matrix: 2 × 6 of type dbl\n\n| <!--/--> | used | (Mb) | gc trigger | (Mb) | max used | (Mb) |\n|---|---|---|---|---|---|---|\n| Ncells |  839115 | 44.9 |   1454462 |   77.7 |   1454462 |   77.7 |\n| Vcells | 1706370 | 13.1 | 172412704 | 1315.5 | 215503232 | 1644.2 |\n\n",
            "text/latex": "A matrix: 2 × 6 of type dbl\n\\begin{tabular}{r|llllll}\n  & used & (Mb) & gc trigger & (Mb) & max used & (Mb)\\\\\n\\hline\n\tNcells &  839115 & 44.9 &   1454462 &   77.7 &   1454462 &   77.7\\\\\n\tVcells & 1706370 & 13.1 & 172412704 & 1315.5 & 215503232 & 1644.2\\\\\n\\end{tabular}\n",
            "text/plain": [
              "       used    (Mb) gc trigger (Mb)   max used  (Mb)  \n",
              "Ncells  839115 44.9   1454462    77.7   1454462   77.7\n",
              "Vcells 1706370 13.1 172412704  1315.5 215503232 1644.2"
            ]
          },
          "metadata": {}
        }
      ],
      "source": [
        "# limpio la memoria\n",
        "rm(list=ls(all.names=TRUE)) # remove all objects\n",
        "gc(full=TRUE, verbose=FALSE) # garbage collection"
      ]
    },
    {
      "cell_type": "code",
      "execution_count": 30,
      "metadata": {
        "id": "znljkzcy_oW8"
      },
      "outputs": [],
      "source": [
        "# cargo las librerias que necesito\n",
        "require(\"data.table\")\n",
        "require(\"rpart\")\n",
        "if(!require(\"rpart.plot\")) install.packages(\"rpart.plot\")\n",
        "require(\"rpart.plot\")"
      ]
    },
    {
      "cell_type": "markdown",
      "source": [
        "Aqui debe cargar SU semilla primigenia y\n",
        "<br> parametros de un@ alumn@ desconfiad@"
      ],
      "metadata": {
        "id": "JuTHR5-z_oW8"
      }
    },
    {
      "cell_type": "code",
      "source": [
        "PARAM <- list()\n",
        "#PARAM$semilla_primigenia <- 102191\n",
        "PARAM$semilla_primigenia <- 191717\n",
        "\n",
        "\n",
        "PARAM$rpart$cp <- -0.5\n",
        "PARAM$rpart$minsplit <- 2000\n",
        "PARAM$rpart$minbucket <- 800\n",
        "PARAM$rpart$maxdepth <- 6"
      ],
      "metadata": {
        "id": "m93vR2RM_oW9"
      },
      "execution_count": null,
      "outputs": []
    },
    {
      "cell_type": "code",
      "source": [
        "# carpeta de trabajo\n",
        "setwd(\"/content/buckets/b1/exp\")\n",
        "experimento <- \"exp5300\"\n",
        "dir.create(experimento, showWarnings=FALSE)\n",
        "setwd( paste0(\"/content/buckets/b1/exp/\", experimento ))"
      ],
      "metadata": {
        "id": "V6QKBQpd_oW9"
      },
      "execution_count": null,
      "outputs": []
    },
    {
      "cell_type": "code",
      "source": [
        "# lectura del dataset\n",
        "dataset <- fread(\"/content/datasets/dataset_pequeno.csv\")"
      ],
      "metadata": {
        "id": "Tmo3V3YM_oW-"
      },
      "execution_count": null,
      "outputs": []
    },
    {
      "cell_type": "code",
      "source": [
        "# me quedo solo con los datos de julio\n",
        "dataset <- dataset[ foto_mes==202107,]"
      ],
      "metadata": {
        "id": "pk6-z0eB_oW-"
      },
      "execution_count": null,
      "outputs": []
    },
    {
      "cell_type": "code",
      "source": [
        "# uso esta semilla para los canaritos\n",
        "set.seed(PARAM$semila_primigenia)\n",
        "\n",
        "# agrego los siguientes canaritos\n",
        "for( i in 1:154 ) dataset[ , paste0(\"canarito\", i ) :=  runif( nrow(dataset)) ]"
      ],
      "metadata": {
        "id": "zBwO5Im-_oW-"
      },
      "execution_count": null,
      "outputs": []
    },
    {
      "cell_type": "code",
      "source": [
        "# Entreno el modelo\n",
        "\n",
        "modelo <- rpart(formula= \"clase_ternaria ~ .\",\n",
        "  data= dataset,\n",
        "  model= TRUE,\n",
        "  xval= 0,\n",
        "  control= PARAM$rpart\n",
        ")\n"
      ],
      "metadata": {
        "id": "2aNvTGxC_oW_"
      },
      "execution_count": null,
      "outputs": []
    },
    {
      "cell_type": "code",
      "source": [
        "# genero un pdf con el dibujo del arbol\n",
        "\n",
        "pdf(file = \"arbol_canaritos_desconfiados.pdf\", width=28, height=4)\n",
        "prp(modelo, extra=101, digits=5, branch=1, type=4, varlen=0, faclen=0)\n",
        "dev.off()"
      ],
      "metadata": {
        "id": "fkNkZX55_oW_"
      },
      "execution_count": null,
      "outputs": []
    },
    {
      "cell_type": "markdown",
      "source": [
        "vaya a su Google Drive\n",
        "<br> busque la carpeta **My Drive /  dm / exp / exp5300**\n",
        "<br> baje el archivo **arbol_canaritos_desconfiados.pdf**  a su laptop\n",
        "<br> abra el .pdf con el Acrobat Reader\n",
        "<br> y dentro del .pdf busque splits hecho en alguna de las nuevas variables canaritos"
      ],
      "metadata": {
        "id": "ShnFSpwk_oXA"
      }
    },
    {
      "cell_type": "markdown",
      "metadata": {
        "id": "eBXaseNMCPRS"
      },
      "source": [
        "\n",
        "\n",
        "---\n",
        "\n"
      ]
    },
    {
      "cell_type": "markdown",
      "source": [
        "## 5.4 rpart  Canaritos pruning"
      ],
      "metadata": {
        "id": "2W4cujFXCPRS"
      }
    },
    {
      "cell_type": "markdown",
      "metadata": {
        "id": "eSU5vi00CPRS"
      },
      "source": [
        "Esta parte se debe correr con el runtime en lenguaje **R** Ir al menu, Runtime -> Change Runtime Type -> Runtime type -> R"
      ]
    },
    {
      "cell_type": "markdown",
      "metadata": {
        "id": "Zq8dySimCPRT"
      },
      "source": [
        "limpio el ambiente de R"
      ]
    },
    {
      "cell_type": "code",
      "execution_count": null,
      "metadata": {
        "id": "1iE0U4_WCPRT"
      },
      "outputs": [],
      "source": [
        "# limpio la memoria\n",
        "rm(list=ls(all.names=TRUE)) # remove all objects\n",
        "gc(full=TRUE, verbose=FALSE) # garbage collection"
      ]
    },
    {
      "cell_type": "code",
      "execution_count": null,
      "metadata": {
        "id": "BJDwdD0dCPRU"
      },
      "outputs": [],
      "source": [
        "# cargo las librerias que necesito\n",
        "require(\"data.table\")\n",
        "require(\"rpart\")\n",
        "if(!require(\"rpart.plot\")) install.packages(\"rpart.plot\")\n",
        "require(\"rpart.plot\")"
      ]
    },
    {
      "cell_type": "markdown",
      "source": [
        "Aqui debe cargar SU semilla primigenia"
      ],
      "metadata": {
        "id": "M8-Pyp6CCPRU"
      }
    },
    {
      "cell_type": "code",
      "source": [
        "PARAM <- list()\n",
        "PARAM$semilla_primigenia <- 1021917\n",
        "\n",
        "# Dejo crecer el arbol sin ninguna limitacion\n",
        "# sin limite de altura ( 30 es el maximo que permite rpart )\n",
        "# sin limite de minsplit ( 2 es el minimo natural )\n",
        "# sin limite de minbukcet( 1 es el minimo natural )\n",
        "# ya aprendimos que cp debe ser negativo\n",
        "PARAM$rpart$cp <- -1\n",
        "PARAM$rpart$minsplit <- 2\n",
        "PARAM$rpart$minbucket <- 1\n",
        "PARAM$rpart$maxdepth <- 30"
      ],
      "metadata": {
        "id": "peRH7ySLCPRV"
      },
      "execution_count": null,
      "outputs": []
    },
    {
      "cell_type": "code",
      "source": [
        "# carpeta de trabajo\n",
        "setwd(\"/content/buckets/b1/exp\")\n",
        "experimento <- \"exp5400\"\n",
        "dir.create(experimento, showWarnings=FALSE)\n",
        "setwd( paste0(\"/content/buckets/b1/exp/\", experimento ))"
      ],
      "metadata": {
        "id": "1gZD6ZMvCPRV"
      },
      "execution_count": null,
      "outputs": []
    },
    {
      "cell_type": "code",
      "source": [
        "# lectura del dataset\n",
        "dataset <- fread(\"/content/datasets/dataset_pequeno.csv\")"
      ],
      "metadata": {
        "id": "Xi0emX2ECPRV"
      },
      "execution_count": null,
      "outputs": []
    },
    {
      "cell_type": "code",
      "source": [
        "# uso esta semilla para los canaritos\n",
        "set.seed(PARAM$semila_primigenia)\n",
        "\n",
        "# agrego los siguientes canaritos\n",
        "for( i in 1:155 ) dataset[ , paste0(\"canarito\", i ) :=  runif( nrow(dataset)) ]"
      ],
      "metadata": {
        "id": "xlO-EJ9TCPRW"
      },
      "execution_count": null,
      "outputs": []
    },
    {
      "cell_type": "code",
      "source": [
        "# datos de training\n",
        "dtrain <- dataset[foto_mes == 202107]"
      ],
      "metadata": {
        "id": "vjoJrP6ED9k2"
      },
      "execution_count": null,
      "outputs": []
    },
    {
      "cell_type": "code",
      "source": [
        "# clase binaria\n",
        "dtrain[, clase_binaria2 := ifelse( clase_ternaria==\"CONTINUA\", \"NEG\", \"POS\" ) ]\n",
        "dtrain[, clase_ternaria := NULL ]"
      ],
      "metadata": {
        "id": "---sF8QNDHC5"
      },
      "execution_count": null,
      "outputs": []
    },
    {
      "cell_type": "code",
      "source": [
        "# Entreno el modelo\n",
        "pesos <- dtrain[, ifelse( clase_binaria2==\"POS\", 5.0, 1.0 ) ]\n",
        "\n",
        "modelo_original <- rpart(formula= \"clase_binaria2 ~ .\",\n",
        "  data= dtrain,\n",
        "  model= TRUE,\n",
        "  xval= 0,\n",
        "  control= PARAM$rpart,\n",
        "  weights= pesos\n",
        ")\n"
      ],
      "metadata": {
        "id": "iAiaCs-MCPRX"
      },
      "execution_count": null,
      "outputs": []
    },
    {
      "cell_type": "code",
      "source": [
        "# hago el pruning de los canaritos\n",
        "# haciendo un hackeo a la estructura  modelo_original$frame\n",
        "# -666 es un valor arbritrariamente negativo que jamas es generado por rpart\n",
        "\n",
        "modelo_original$frame[\n",
        "    modelo_original$frame$var %like% \"canarito\",\n",
        "    \"complexity\"\n",
        "] <- -666\n",
        "\n",
        "modelo_pruned <- prune(modelo_original, -666)"
      ],
      "metadata": {
        "id": "KMTIZypiEW2Q"
      },
      "execution_count": null,
      "outputs": []
    },
    {
      "cell_type": "code",
      "source": [
        "# genero un pdf con el dibujo del arbol\n",
        "\n",
        "pdf(file = \"stopping_at_canaritos.pdf\", width=28, height=4)\n",
        "prp(modelo_pruned, extra=101, digits=5, branch=1, type=4, varlen=0, faclen=0)\n",
        "dev.off()"
      ],
      "metadata": {
        "id": "nkWKeM8NCPRX"
      },
      "execution_count": null,
      "outputs": []
    },
    {
      "cell_type": "code",
      "source": [
        "# datos del futuro\n",
        "dfuture <- dataset[foto_mes == 202109]"
      ],
      "metadata": {
        "id": "UGvhzyNdFBZn"
      },
      "execution_count": null,
      "outputs": []
    },
    {
      "cell_type": "code",
      "source": [
        "# scoring, aplico el modelo a los datos del futuro\n",
        "prediccion <- predict(modelo_pruned,\n",
        "  dfuture,\n",
        "  type= \"prob\"\n",
        ")"
      ],
      "metadata": {
        "id": "eczNdwVOFGoW"
      },
      "execution_count": null,
      "outputs": []
    },
    {
      "cell_type": "code",
      "source": [
        "# tabla prediccion\n",
        "tb_prediccion <- as.data.table(list(\n",
        "  \"numero_de_cliente\" = dfuture$numero_de_cliente,\n",
        "  \"prob\"=prediccion[, \"POS\"]\n",
        "))"
      ],
      "metadata": {
        "id": "yQmrMJd_FUpd"
      },
      "execution_count": null,
      "outputs": []
    },
    {
      "cell_type": "code",
      "source": [
        "# Decison\n",
        "setorder( tb_prediccion, -prob )\n",
        "tb_prediccion[ , Predicted := 0L ]\n",
        "tb_prediccion[ 1:11000, Predicted := 1L ]\n"
      ],
      "metadata": {
        "id": "3H54yHfDFlC6"
      },
      "execution_count": null,
      "outputs": []
    },
    {
      "cell_type": "code",
      "source": [
        "# archivo para kaggle\n",
        "archivo_kaggle <- \"K5400_001.csv\"\n",
        "\n",
        "fwrite( tb_prediccion[, list(numero_de_cliente, Predicted)],\n",
        "  file= archivo_kaggle,\n",
        "  sep= \",\"\n",
        ")"
      ],
      "metadata": {
        "id": "L-kS6BKNGRP8"
      },
      "execution_count": null,
      "outputs": []
    },
    {
      "cell_type": "code",
      "source": [
        "# subida a Kaggle\n",
        "comando <- \"kaggle competitions submit\"\n",
        "competencia <- \"-c labo-i-2025-ba-analista-sr\"\n",
        "arch <- paste( \"-f\", archivo_kaggle)"
      ],
      "metadata": {
        "id": "l9K2m5CmF47o"
      },
      "execution_count": null,
      "outputs": []
    },
    {
      "cell_type": "code",
      "source": [
        "mensaje <- paste0(\"-m 'cp=\", PARAM$rpart$cp, \"  minsplit=\", PARAM$rpart$minsplit, \"  minbucket=\", PARAM$rpart$minbucket, \" maxdepth=\", PARAM$rpart$maxdepth, \"'\" )"
      ],
      "metadata": {
        "id": "vtaQvc7rGoEQ"
      },
      "execution_count": null,
      "outputs": []
    },
    {
      "cell_type": "code",
      "source": [
        "linea <- paste( comando, competencia, arch, mensaje)\n",
        "\n",
        "# este es el comando que correria desde el prompt de Linux\n",
        "linea"
      ],
      "metadata": {
        "id": "gAyktvNRHKlo"
      },
      "execution_count": null,
      "outputs": []
    },
    {
      "cell_type": "code",
      "source": [
        "# ejecuto el comando\n",
        "salida <- system(linea, intern=TRUE)\n",
        "cat(salida)"
      ],
      "metadata": {
        "id": "zOL74XsmHXNm"
      },
      "execution_count": null,
      "outputs": []
    },
    {
      "cell_type": "markdown",
      "source": [
        "vaya a su Google Drive\n",
        "<br> busque la carpeta **My Drive /  dm / exp / exp5400**\n",
        "<br> baje el archivo **stopping_at_canaritos.pdf**  a su laptop\n",
        "<br> abra el .pdf con el Acrobat Reader\n"
      ],
      "metadata": {
        "id": "RzZj6LXmCPRY"
      }
    },
    {
      "cell_type": "markdown",
      "metadata": {
        "id": "L5fq_POOvEns"
      },
      "source": [
        "\n",
        "\n",
        "---\n",
        "\n"
      ]
    }
  ]
}